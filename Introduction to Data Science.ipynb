{
 "cells": [
  {
   "cell_type": "markdown",
   "metadata": {},
   "source": [
    "# วิทยาศาสตร์ข้อมูลเบื้องต้น\n",
    "\n",
    " วัชรพัฐ เมตตานันท\n",
    " ***"
   ]
  },
  {
   "cell_type": "markdown",
   "metadata": {},
   "source": [
    "## บทนำ"
   ]
  },
  {
   "cell_type": "markdown",
   "metadata": {},
   "source": [
    "เทคโนโลยีในปัจจุบันทำให้เราสามารถเก็บข้อมูลต่าง ๆ ได้เป็นจำนวนมาก คนจึงเริ่มมีความต้องการที่จะนำข้อมูลเหล่านี้มาใช้ให้เกิดประโยชน์สูงสุด ด้วยสาเหตุนี้จึงทำให้เกิดศาสตร์แขนงใหม่ที่เรียกว่า _วิทยาศาสตร์ข้อมูล_ (data science) เกิดขึ้น\n",
    "\n",
    "วิทยาศาสตร์ข้อมูล เป็นศาสตร์ที่ศึกษาเรื่องการนำข้อมูลมาใช้ประโยชน์ ซึ่งครอบคลุมประเด็นหลัก ๆ ได้แก่\n",
    "\n",
    "1. การจัดการข้อมูล (data management)\n",
    "1. การวิเคราะห์ข้อมูล (data analysis)\n",
    "1. การนำเสนอข้อมูลด้วยภาพ (data visualization)\n",
    "1. การเรียนรู้ของเครื่อง (machine learning)\n",
    "\n",
    "จะเห็นได้ว่าคนที่เหมาะสมสำหรับงานด้านวิทยาศาสตร์ข้อมูลนี้ คือคนที่มีความรู้ด้านสถิติและคณิตศาสตร์สำหรับใช้ในการวิเคราะห์ข้อมูล และเนื่องจากข้อมูลที่เรามักจะต้องเจอนั้นมีปริมาณมาก จึงจำเป็นต้องใช้ความรู้ด้านการเขียนโปรแกรมเพื่อให้คอมพิวเตอร์ทำการคำนวณต่าง ๆ ให้เรา นักวิทยาศาสตร์ข้อมูลในปัจจุบันจึงมักมาจากกลุ่มคนในด้านวิทยาการคอมพิวเตอร์และนักคณิตศาสตร์\n",
    "\n",
    "ในปฏิบัติการครั้งนี้ เราจะมาดูภาพรวมของการทำงานด้านวิทยาศาสตร์ข้อมูล โดยใช้ _ภาษาไพธอน_ (Python) ซึ่งได้รับความนิยมมาก เนื่องจากมีเครื่องมือสำหรับงานด้านวิทยาศาสตร์ข้อมูลครบถ้วน"
   ]
  },
  {
   "cell_type": "markdown",
   "metadata": {},
   "source": [
    "## ภาษาไพธอนสำหรับวิทยาศาสตร์ข้อมูล"
   ]
  },
  {
   "cell_type": "markdown",
   "metadata": {},
   "source": [
    "ถึงแม้ภาษาไพธอนจะเป็นภาษาที่เรียนรู้ได้ง่าย \n",
    "แต่การใช้แค่เครื่องมือพื้นฐานของตัวภาษาในการเขียนโปรแกรมที่ต้องทำการประมวลผลข้อมูลจำนวนมากอาจไม่มีประสิทธิภาพดี \n",
    "เนื่องจากตัวภาษามีความยืดหยุ่นสูงจึงมีกระบวนการทำงานเบื้องหลังจำนวนมากตามไปด้วย อย่างไรก็ดี ในปัจจุบันเรามีเครื่องมือเพิ่มเติมในภาษาไพธอน\n",
    "ที่ลดข้อเสียเหล่านี้ลงไป ทำให้เราสามารถนำภาษาไพธอนมาใช้ในการประมวลผลและวิเคราะห์ข้อมูลต่าง ๆ ได้อย่างมีประสิทธิภาพและง่าย!!!\n",
    "\n",
    "ตลอดการแสดงตัวอย่างการวิเคราะห์ข้อมูลในปฏิบัติการนี้ เราจะทำความรู้จักเครื่องมือสำคัญของภาษาไพธอนสำหรับนักวิทยาศาสตร์ข้อมูลได้แก่\n",
    "\n",
    "1. Numpy (`numpy`): module สำหรับประมวลผลเชิงตัวเลขอย่างมีประสิทธิภาพ\n",
    "1. Pandas (`pandas`): modle สำหรับจัดการข้อมูลที่มีความซับซ้อนสูง\n",
    "1. Matplotlib (`matplotlib`): module สำหรับทำการแสดงผลข้อมูลด้วยแผนภาพหรือกราฟในลักษณะต่าง ๆ\n",
    "1. Scikit-Learn (`sklearn`): module สำหรับสร้างแบบจำลองการเรียนรู้ของเครื่อง \n",
    "เพื่อใช้ในการวิเคราะห์ข้อมูล และนำไปสู่การตัดสินใจหรือทำนายข้อมูลต่าง ๆ \n",
    "***"
   ]
  },
  {
   "cell_type": "markdown",
   "metadata": {},
   "source": [
    "## รายได้เฉลี่ยต่อครัวเรือนของประชากรไทย\n",
    "\n",
    "ในปฏิบัติการครั้งนี้ เราจะมาวิเคราะห์ข้อมูลเกี่ยวกับรายได้เฉลี่ยต่อครัวเรือนของประชากรไทย โดยใช้ข้อมูลจาก _ศูนย์กลางข้อมูลภาครัฐ_ (https://data.go.th/) สำนักงานรัฐบาลอิเล็กทรอนิกส์ (องค์การมหาชน) \n",
    "\n",
    "ไฟล์ข้อมูลที่ใช้เป็นไฟล์จากแหล่งข้อมูลจริง โดยไม่มีการปรับแก้ใด ๆ \n",
    "เพื่อให้เราได้เห็นปัญหาและฝึกแก้ไขปัญหาในการจัดการข้อมูลจากแหล่งข้อมูลจริง\n",
    "\n",
    "ข้อมูลรายได้เฉลี่ยต่อเดือนต่อครัวเรือน จำแนกตามภาค และจังหวัด พ.ศ. 2541 - 2558 อยู่ในไฟล์ชื่อ `income.csv`\n",
    "เราสามารถเปิดข้อมูลในไฟล์ประเภทดังกล่าวมาเก็บใส่ตัวแปรได้อย่างง่ายโดยใช้ฟังก์ชัน `read_csv` ของ Pandas ซึ่งทำได้โดยใช้คำสั่งต่อไปนี้ (สามารถทดลองรันคำสั่งได้โดยเลือกที่เซลคำสั่งโปรแกรมภาษาไพธอนและกด Shift+Enter)"
   ]
  },
  {
   "cell_type": "code",
   "execution_count": 1,
   "metadata": {
    "collapsed": true
   },
   "outputs": [],
   "source": [
    "import pandas as pd\n",
    "income = pd.read_csv('data/income.csv')"
   ]
  },
  {
   "cell_type": "markdown",
   "metadata": {},
   "source": [
    "เราจะได้ข้อมูลในตัวแปร `income` นั้นมีลักษณะเป็นตารางข้อมูลที่มีการระบุหัวตาราง และหัวแถว เราเรียกชนิดข้อมูลเช่นนี้ว่า `DataFrame` ซึ่งเป็นชนิดข้อมูลหลักของ Pandas ในการจัดการข้อมูล เราสามารถเรียกดูเฉพาะส่วนบนของตารางได้โดยใช้คำสั่งต่อไปนี้"
   ]
  },
  {
   "cell_type": "code",
   "execution_count": 2,
   "metadata": {
    "scrolled": false
   },
   "outputs": [
    {
     "data": {
      "text/html": [
       "<div>\n",
       "<style>\n",
       "    .dataframe thead tr:only-child th {\n",
       "        text-align: right;\n",
       "    }\n",
       "\n",
       "    .dataframe thead th {\n",
       "        text-align: left;\n",
       "    }\n",
       "\n",
       "    .dataframe tbody tr th {\n",
       "        vertical-align: top;\n",
       "    }\n",
       "</style>\n",
       "<table border=\"1\" class=\"dataframe\">\n",
       "  <thead>\n",
       "    <tr style=\"text-align: right;\">\n",
       "      <th></th>\n",
       "      <th>รายได้เฉลี่ยต่อเดือนต่อครัวเรือน จำแนกตามภาค และจังหวัด พ.ศ. 2541 - 2558</th>\n",
       "      <th>Unnamed: 1</th>\n",
       "      <th>Unnamed: 2</th>\n",
       "      <th>Unnamed: 3</th>\n",
       "      <th>Unnamed: 4</th>\n",
       "      <th>Unnamed: 5</th>\n",
       "      <th>Unnamed: 6</th>\n",
       "      <th>Unnamed: 7</th>\n",
       "      <th>Unnamed: 8</th>\n",
       "      <th>Unnamed: 9</th>\n",
       "      <th>...</th>\n",
       "      <th>Unnamed: 57</th>\n",
       "      <th>Unnamed: 58</th>\n",
       "      <th>Unnamed: 59</th>\n",
       "      <th>Unnamed: 60</th>\n",
       "      <th>Unnamed: 61</th>\n",
       "      <th>Unnamed: 62</th>\n",
       "      <th>Unnamed: 63</th>\n",
       "      <th>Unnamed: 64</th>\n",
       "      <th>Unnamed: 65</th>\n",
       "      <th>Unnamed: 66</th>\n",
       "    </tr>\n",
       "  </thead>\n",
       "  <tbody>\n",
       "    <tr>\n",
       "      <th>0</th>\n",
       "      <td>Average Monthly Income Per Household: 1998 - 2015</td>\n",
       "      <td>NaN</td>\n",
       "      <td>NaN</td>\n",
       "      <td>NaN</td>\n",
       "      <td>NaN</td>\n",
       "      <td>NaN</td>\n",
       "      <td>NaN</td>\n",
       "      <td>NaN</td>\n",
       "      <td>NaN</td>\n",
       "      <td>NaN</td>\n",
       "      <td>...</td>\n",
       "      <td>NaN</td>\n",
       "      <td>NaN</td>\n",
       "      <td>NaN</td>\n",
       "      <td>NaN</td>\n",
       "      <td>NaN</td>\n",
       "      <td>NaN</td>\n",
       "      <td>NaN</td>\n",
       "      <td>NaN</td>\n",
       "      <td>NaN</td>\n",
       "      <td>NaN</td>\n",
       "    </tr>\n",
       "    <tr>\n",
       "      <th>1</th>\n",
       "      <td>NaN</td>\n",
       "      <td>NaN</td>\n",
       "      <td>NaN</td>\n",
       "      <td>NaN</td>\n",
       "      <td>NaN</td>\n",
       "      <td>NaN</td>\n",
       "      <td>NaN</td>\n",
       "      <td>NaN</td>\n",
       "      <td>NaN</td>\n",
       "      <td>NaN</td>\n",
       "      <td>...</td>\n",
       "      <td>NaN</td>\n",
       "      <td>NaN</td>\n",
       "      <td>NaN</td>\n",
       "      <td>NaN</td>\n",
       "      <td>NaN</td>\n",
       "      <td>NaN</td>\n",
       "      <td>NaN</td>\n",
       "      <td>NaN</td>\n",
       "      <td>NaN</td>\n",
       "      <td>NaN</td>\n",
       "    </tr>\n",
       "    <tr>\n",
       "      <th>2</th>\n",
       "      <td>ภาค และจังหวัด</td>\n",
       "      <td>NaN</td>\n",
       "      <td>2541.0</td>\n",
       "      <td>2543.0</td>\n",
       "      <td>2545.0</td>\n",
       "      <td>2547.0</td>\n",
       "      <td>2549.0</td>\n",
       "      <td>2550.0</td>\n",
       "      <td>2552.0</td>\n",
       "      <td>2554.0</td>\n",
       "      <td>...</td>\n",
       "      <td>NaN</td>\n",
       "      <td>NaN</td>\n",
       "      <td>NaN</td>\n",
       "      <td>NaN</td>\n",
       "      <td>NaN</td>\n",
       "      <td>NaN</td>\n",
       "      <td>NaN</td>\n",
       "      <td>NaN</td>\n",
       "      <td>NaN</td>\n",
       "      <td>NaN</td>\n",
       "    </tr>\n",
       "    <tr>\n",
       "      <th>3</th>\n",
       "      <td>NaN</td>\n",
       "      <td>NaN</td>\n",
       "      <td>-1998.0</td>\n",
       "      <td>-2000.0</td>\n",
       "      <td>-2002.0</td>\n",
       "      <td>-2004.0</td>\n",
       "      <td>-2006.0</td>\n",
       "      <td>-2007.0</td>\n",
       "      <td>-2009.0</td>\n",
       "      <td>-2011.0</td>\n",
       "      <td>...</td>\n",
       "      <td>NaN</td>\n",
       "      <td>NaN</td>\n",
       "      <td>NaN</td>\n",
       "      <td>NaN</td>\n",
       "      <td>NaN</td>\n",
       "      <td>NaN</td>\n",
       "      <td>NaN</td>\n",
       "      <td>NaN</td>\n",
       "      <td>NaN</td>\n",
       "      <td>NaN</td>\n",
       "    </tr>\n",
       "    <tr>\n",
       "      <th>4</th>\n",
       "      <td>NaN</td>\n",
       "      <td>NaN</td>\n",
       "      <td>NaN</td>\n",
       "      <td>NaN</td>\n",
       "      <td>NaN</td>\n",
       "      <td>NaN</td>\n",
       "      <td>NaN</td>\n",
       "      <td>NaN</td>\n",
       "      <td>NaN</td>\n",
       "      <td>NaN</td>\n",
       "      <td>...</td>\n",
       "      <td>NaN</td>\n",
       "      <td>NaN</td>\n",
       "      <td>NaN</td>\n",
       "      <td>NaN</td>\n",
       "      <td>NaN</td>\n",
       "      <td>NaN</td>\n",
       "      <td>NaN</td>\n",
       "      <td>NaN</td>\n",
       "      <td>NaN</td>\n",
       "      <td>NaN</td>\n",
       "    </tr>\n",
       "  </tbody>\n",
       "</table>\n",
       "<p>5 rows × 67 columns</p>\n",
       "</div>"
      ],
      "text/plain": [
       "  รายได้เฉลี่ยต่อเดือนต่อครัวเรือน จำแนกตามภาค และจังหวัด พ.ศ. 2541 - 2558  \\\n",
       "0  Average Monthly Income Per Household: 1998 - 2015                         \n",
       "1                                                NaN                         \n",
       "2                                     ภาค และจังหวัด                         \n",
       "3                                                NaN                         \n",
       "4                                                NaN                         \n",
       "\n",
       "  Unnamed: 1  Unnamed: 2  Unnamed: 3  Unnamed: 4  Unnamed: 5  Unnamed: 6  \\\n",
       "0        NaN         NaN         NaN         NaN         NaN         NaN   \n",
       "1        NaN         NaN         NaN         NaN         NaN         NaN   \n",
       "2        NaN      2541.0      2543.0      2545.0      2547.0      2549.0   \n",
       "3        NaN     -1998.0     -2000.0     -2002.0     -2004.0     -2006.0   \n",
       "4        NaN         NaN         NaN         NaN         NaN         NaN   \n",
       "\n",
       "   Unnamed: 7  Unnamed: 8  Unnamed: 9     ...       Unnamed: 57  Unnamed: 58  \\\n",
       "0         NaN         NaN         NaN     ...               NaN          NaN   \n",
       "1         NaN         NaN         NaN     ...               NaN          NaN   \n",
       "2      2550.0      2552.0      2554.0     ...               NaN          NaN   \n",
       "3     -2007.0     -2009.0     -2011.0     ...               NaN          NaN   \n",
       "4         NaN         NaN         NaN     ...               NaN          NaN   \n",
       "\n",
       "  Unnamed: 59  Unnamed: 60  Unnamed: 61  Unnamed: 62  Unnamed: 63  \\\n",
       "0         NaN          NaN          NaN          NaN          NaN   \n",
       "1         NaN          NaN          NaN          NaN          NaN   \n",
       "2         NaN          NaN          NaN          NaN          NaN   \n",
       "3         NaN          NaN          NaN          NaN          NaN   \n",
       "4         NaN          NaN          NaN          NaN          NaN   \n",
       "\n",
       "   Unnamed: 64  Unnamed: 65  Unnamed: 66  \n",
       "0          NaN          NaN          NaN  \n",
       "1          NaN          NaN          NaN  \n",
       "2          NaN          NaN          NaN  \n",
       "3          NaN          NaN          NaN  \n",
       "4          NaN          NaN          NaN  \n",
       "\n",
       "[5 rows x 67 columns]"
      ]
     },
     "execution_count": 2,
     "metadata": {},
     "output_type": "execute_result"
    }
   ],
   "source": [
    "income.head()"
   ]
  },
  {
   "cell_type": "markdown",
   "metadata": {},
   "source": [
    "เราเรียกหัวตารางของแต่ละหลักว่า `column` และเรียกหัวแถวของแต่ละแถวว่า `index` อย่างไรก็ดี จะเห็นว่าหัวตารางนั้นประกอบด้วยข้อความ `Unnamed` จำนวนมาก ซึ่งไม่ใช่สิ่งที่เราต้องการ สาเหตุเกิดจากในไฟล์ `income.csv` นั้นไม่ได้ระบุหัวตารางไว้ที่บรรทัดแรก เราสามารถอ่านไฟล์ใหม่โดยข้ามสามบรรทัดแรกไปดังนี้\n"
   ]
  },
  {
   "cell_type": "code",
   "execution_count": 3,
   "metadata": {},
   "outputs": [
    {
     "data": {
      "text/html": [
       "<div>\n",
       "<style>\n",
       "    .dataframe thead tr:only-child th {\n",
       "        text-align: right;\n",
       "    }\n",
       "\n",
       "    .dataframe thead th {\n",
       "        text-align: left;\n",
       "    }\n",
       "\n",
       "    .dataframe tbody tr th {\n",
       "        vertical-align: top;\n",
       "    }\n",
       "</style>\n",
       "<table border=\"1\" class=\"dataframe\">\n",
       "  <thead>\n",
       "    <tr style=\"text-align: right;\">\n",
       "      <th></th>\n",
       "      <th>ภาค และจังหวัด</th>\n",
       "      <th>Unnamed: 1</th>\n",
       "      <th>2541</th>\n",
       "      <th>2543</th>\n",
       "      <th>2545</th>\n",
       "      <th>2547</th>\n",
       "      <th>2549</th>\n",
       "      <th>2550</th>\n",
       "      <th>2552</th>\n",
       "      <th>2554</th>\n",
       "      <th>...</th>\n",
       "      <th>Unnamed: 57</th>\n",
       "      <th>Unnamed: 58</th>\n",
       "      <th>Unnamed: 59</th>\n",
       "      <th>Unnamed: 60</th>\n",
       "      <th>Unnamed: 61</th>\n",
       "      <th>Unnamed: 62</th>\n",
       "      <th>Unnamed: 63</th>\n",
       "      <th>Unnamed: 64</th>\n",
       "      <th>Unnamed: 65</th>\n",
       "      <th>Unnamed: 66</th>\n",
       "    </tr>\n",
       "  </thead>\n",
       "  <tbody>\n",
       "    <tr>\n",
       "      <th>0</th>\n",
       "      <td>NaN</td>\n",
       "      <td>NaN</td>\n",
       "      <td>-1998.0</td>\n",
       "      <td>-2000.0</td>\n",
       "      <td>-2002.0</td>\n",
       "      <td>-2004.0</td>\n",
       "      <td>-2006.0</td>\n",
       "      <td>-2007.0</td>\n",
       "      <td>-2009.0</td>\n",
       "      <td>-2011.0</td>\n",
       "      <td>...</td>\n",
       "      <td>NaN</td>\n",
       "      <td>NaN</td>\n",
       "      <td>NaN</td>\n",
       "      <td>NaN</td>\n",
       "      <td>NaN</td>\n",
       "      <td>NaN</td>\n",
       "      <td>NaN</td>\n",
       "      <td>NaN</td>\n",
       "      <td>NaN</td>\n",
       "      <td>NaN</td>\n",
       "    </tr>\n",
       "    <tr>\n",
       "      <th>1</th>\n",
       "      <td>NaN</td>\n",
       "      <td>NaN</td>\n",
       "      <td>NaN</td>\n",
       "      <td>NaN</td>\n",
       "      <td>NaN</td>\n",
       "      <td>NaN</td>\n",
       "      <td>NaN</td>\n",
       "      <td>NaN</td>\n",
       "      <td>NaN</td>\n",
       "      <td>NaN</td>\n",
       "      <td>...</td>\n",
       "      <td>NaN</td>\n",
       "      <td>NaN</td>\n",
       "      <td>NaN</td>\n",
       "      <td>NaN</td>\n",
       "      <td>NaN</td>\n",
       "      <td>NaN</td>\n",
       "      <td>NaN</td>\n",
       "      <td>NaN</td>\n",
       "      <td>NaN</td>\n",
       "      <td>NaN</td>\n",
       "    </tr>\n",
       "    <tr>\n",
       "      <th>2</th>\n",
       "      <td>ทั่วราชอาณาจักร</td>\n",
       "      <td>NaN</td>\n",
       "      <td>12492.0</td>\n",
       "      <td>12150.0</td>\n",
       "      <td>13736.0</td>\n",
       "      <td>14963.0</td>\n",
       "      <td>17787.0</td>\n",
       "      <td>18660.0</td>\n",
       "      <td>20904.0</td>\n",
       "      <td>23236.0</td>\n",
       "      <td>...</td>\n",
       "      <td>NaN</td>\n",
       "      <td>NaN</td>\n",
       "      <td>NaN</td>\n",
       "      <td>NaN</td>\n",
       "      <td>NaN</td>\n",
       "      <td>NaN</td>\n",
       "      <td>NaN</td>\n",
       "      <td>NaN</td>\n",
       "      <td>NaN</td>\n",
       "      <td>NaN</td>\n",
       "    </tr>\n",
       "    <tr>\n",
       "      <th>3</th>\n",
       "      <td>ตอนพิเศษ</td>\n",
       "      <td>NaN</td>\n",
       "      <td>24929.0</td>\n",
       "      <td>25242.0</td>\n",
       "      <td>28239.0</td>\n",
       "      <td>28135.0</td>\n",
       "      <td>33088.0</td>\n",
       "      <td>35007.0</td>\n",
       "      <td>37732.0</td>\n",
       "      <td>41631.0</td>\n",
       "      <td>...</td>\n",
       "      <td>NaN</td>\n",
       "      <td>NaN</td>\n",
       "      <td>NaN</td>\n",
       "      <td>NaN</td>\n",
       "      <td>NaN</td>\n",
       "      <td>NaN</td>\n",
       "      <td>NaN</td>\n",
       "      <td>NaN</td>\n",
       "      <td>NaN</td>\n",
       "      <td>NaN</td>\n",
       "    </tr>\n",
       "    <tr>\n",
       "      <th>4</th>\n",
       "      <td>กรุงเทพมหานคร</td>\n",
       "      <td>NaN</td>\n",
       "      <td>26054.0</td>\n",
       "      <td>26909.0</td>\n",
       "      <td>29589.0</td>\n",
       "      <td>29843.0</td>\n",
       "      <td>36658.0</td>\n",
       "      <td>39020.0</td>\n",
       "      <td>42380.0</td>\n",
       "      <td>48951.0</td>\n",
       "      <td>...</td>\n",
       "      <td>NaN</td>\n",
       "      <td>NaN</td>\n",
       "      <td>NaN</td>\n",
       "      <td>NaN</td>\n",
       "      <td>NaN</td>\n",
       "      <td>NaN</td>\n",
       "      <td>NaN</td>\n",
       "      <td>NaN</td>\n",
       "      <td>NaN</td>\n",
       "      <td>NaN</td>\n",
       "    </tr>\n",
       "  </tbody>\n",
       "</table>\n",
       "<p>5 rows × 67 columns</p>\n",
       "</div>"
      ],
      "text/plain": [
       "        ภาค และจังหวัด Unnamed: 1     2541     2543     2545     2547  \\\n",
       "0                  NaN        NaN  -1998.0  -2000.0  -2002.0  -2004.0   \n",
       "1                  NaN        NaN      NaN      NaN      NaN      NaN   \n",
       "2     ทั่วราชอาณาจักร         NaN  12492.0  12150.0  13736.0  14963.0   \n",
       "3            ตอนพิเศษ         NaN  24929.0  25242.0  28239.0  28135.0   \n",
       "4       กรุงเทพมหานคร         NaN  26054.0  26909.0  29589.0  29843.0   \n",
       "\n",
       "      2549     2550     2552     2554     ...       Unnamed: 57  Unnamed: 58  \\\n",
       "0  -2006.0  -2007.0  -2009.0  -2011.0     ...               NaN          NaN   \n",
       "1      NaN      NaN      NaN      NaN     ...               NaN          NaN   \n",
       "2  17787.0  18660.0  20904.0  23236.0     ...               NaN          NaN   \n",
       "3  33088.0  35007.0  37732.0  41631.0     ...               NaN          NaN   \n",
       "4  36658.0  39020.0  42380.0  48951.0     ...               NaN          NaN   \n",
       "\n",
       "  Unnamed: 59  Unnamed: 60  Unnamed: 61  Unnamed: 62  Unnamed: 63  \\\n",
       "0         NaN          NaN          NaN          NaN          NaN   \n",
       "1         NaN          NaN          NaN          NaN          NaN   \n",
       "2         NaN          NaN          NaN          NaN          NaN   \n",
       "3         NaN          NaN          NaN          NaN          NaN   \n",
       "4         NaN          NaN          NaN          NaN          NaN   \n",
       "\n",
       "   Unnamed: 64  Unnamed: 65  Unnamed: 66  \n",
       "0          NaN          NaN          NaN  \n",
       "1          NaN          NaN          NaN  \n",
       "2          NaN          NaN          NaN  \n",
       "3          NaN          NaN          NaN  \n",
       "4          NaN          NaN          NaN  \n",
       "\n",
       "[5 rows x 67 columns]"
      ]
     },
     "execution_count": 3,
     "metadata": {},
     "output_type": "execute_result"
    }
   ],
   "source": [
    "income = pd.read_csv('data/income.csv', skiprows=3)\n",
    "income.head()"
   ]
  },
  {
   "cell_type": "markdown",
   "metadata": {},
   "source": [
    "สังเกตว่าเราได้เลขปีเป็นหัวตารางแล้ว แต่ตารางในตัวแปร `income` ยังคงมีหลักว่างอยู่จำนวนมาก เราสามารถกรองข้อมูลให้เหลือเฉพาะหลักที่ต้องการได้ด้วยคำสั่งต่อไปนี้"
   ]
  },
  {
   "cell_type": "code",
   "execution_count": 4,
   "metadata": {},
   "outputs": [
    {
     "data": {
      "text/html": [
       "<div>\n",
       "<style>\n",
       "    .dataframe thead tr:only-child th {\n",
       "        text-align: right;\n",
       "    }\n",
       "\n",
       "    .dataframe thead th {\n",
       "        text-align: left;\n",
       "    }\n",
       "\n",
       "    .dataframe tbody tr th {\n",
       "        vertical-align: top;\n",
       "    }\n",
       "</style>\n",
       "<table border=\"1\" class=\"dataframe\">\n",
       "  <thead>\n",
       "    <tr style=\"text-align: right;\">\n",
       "      <th></th>\n",
       "      <th>2541</th>\n",
       "      <th>2543</th>\n",
       "      <th>2545</th>\n",
       "      <th>2547</th>\n",
       "      <th>2549</th>\n",
       "      <th>2550</th>\n",
       "      <th>2552</th>\n",
       "      <th>2554</th>\n",
       "      <th>2556</th>\n",
       "      <th>2558</th>\n",
       "      <th>Region and province</th>\n",
       "    </tr>\n",
       "  </thead>\n",
       "  <tbody>\n",
       "    <tr>\n",
       "      <th>0</th>\n",
       "      <td>-1998.0</td>\n",
       "      <td>-2000.0</td>\n",
       "      <td>-2002.0</td>\n",
       "      <td>-2004.0</td>\n",
       "      <td>-2006.0</td>\n",
       "      <td>-2007.0</td>\n",
       "      <td>-2009.0</td>\n",
       "      <td>-2011.0</td>\n",
       "      <td>-2013.0</td>\n",
       "      <td>-2015.0</td>\n",
       "      <td>NaN</td>\n",
       "    </tr>\n",
       "    <tr>\n",
       "      <th>1</th>\n",
       "      <td>NaN</td>\n",
       "      <td>NaN</td>\n",
       "      <td>NaN</td>\n",
       "      <td>NaN</td>\n",
       "      <td>NaN</td>\n",
       "      <td>NaN</td>\n",
       "      <td>NaN</td>\n",
       "      <td>NaN</td>\n",
       "      <td>NaN</td>\n",
       "      <td>NaN</td>\n",
       "      <td>NaN</td>\n",
       "    </tr>\n",
       "    <tr>\n",
       "      <th>2</th>\n",
       "      <td>12492.0</td>\n",
       "      <td>12150.0</td>\n",
       "      <td>13736.0</td>\n",
       "      <td>14963.0</td>\n",
       "      <td>17787.0</td>\n",
       "      <td>18660.0</td>\n",
       "      <td>20904.0</td>\n",
       "      <td>23236.0</td>\n",
       "      <td>25194.0</td>\n",
       "      <td>26915.0</td>\n",
       "      <td>Whole Kingdom</td>\n",
       "    </tr>\n",
       "    <tr>\n",
       "      <th>3</th>\n",
       "      <td>24929.0</td>\n",
       "      <td>25242.0</td>\n",
       "      <td>28239.0</td>\n",
       "      <td>28135.0</td>\n",
       "      <td>33088.0</td>\n",
       "      <td>35007.0</td>\n",
       "      <td>37732.0</td>\n",
       "      <td>41631.0</td>\n",
       "      <td>43058.0</td>\n",
       "      <td>41002.0</td>\n",
       "      <td>Greater Bangkok</td>\n",
       "    </tr>\n",
       "    <tr>\n",
       "      <th>4</th>\n",
       "      <td>26054.0</td>\n",
       "      <td>26909.0</td>\n",
       "      <td>29589.0</td>\n",
       "      <td>29843.0</td>\n",
       "      <td>36658.0</td>\n",
       "      <td>39020.0</td>\n",
       "      <td>42380.0</td>\n",
       "      <td>48951.0</td>\n",
       "      <td>49191.0</td>\n",
       "      <td>45572.0</td>\n",
       "      <td>Bangkok</td>\n",
       "    </tr>\n",
       "  </tbody>\n",
       "</table>\n",
       "</div>"
      ],
      "text/plain": [
       "      2541     2543     2545     2547     2549     2550     2552     2554  \\\n",
       "0  -1998.0  -2000.0  -2002.0  -2004.0  -2006.0  -2007.0  -2009.0  -2011.0   \n",
       "1      NaN      NaN      NaN      NaN      NaN      NaN      NaN      NaN   \n",
       "2  12492.0  12150.0  13736.0  14963.0  17787.0  18660.0  20904.0  23236.0   \n",
       "3  24929.0  25242.0  28239.0  28135.0  33088.0  35007.0  37732.0  41631.0   \n",
       "4  26054.0  26909.0  29589.0  29843.0  36658.0  39020.0  42380.0  48951.0   \n",
       "\n",
       "      2556     2558 Region and province  \n",
       "0  -2013.0  -2015.0                 NaN  \n",
       "1      NaN      NaN                 NaN  \n",
       "2  25194.0  26915.0      Whole Kingdom   \n",
       "3  43058.0  41002.0    Greater Bangkok   \n",
       "4  49191.0  45572.0            Bangkok   "
      ]
     },
     "execution_count": 4,
     "metadata": {},
     "output_type": "execute_result"
    }
   ],
   "source": [
    "selected_columns = ['2541', '2543', '2545', '2547', '2549', '2550', \n",
    "                    '2552', '2554', '2556', '2558', 'Region and province']\n",
    "income = income[selected_columns]\n",
    "income.head()"
   ]
  },
  {
   "cell_type": "markdown",
   "metadata": {},
   "source": [
    "คราวนี้จะเห็นว่าตาราง `income` เหลือเฉพาะข้อมูลในหลักที่เราสนใจเท่านั้น อย่างไรก็ดี ข้อมูลในสองบรรทัดบนนั้นมีข้อมูลพิเศษเป็น `NaN` (not a number)\n",
    "เนื่องจากบรรทัดแรกเป็นข้อมูลปีค.ศ.ที่สอดคล้องกัน และบรรทัดต่อมาเป็นบรรทัดว่าง เราสามารถลดบรรทัดที่มีค่า `NaN` ทิ้งได้ง่ายโดยใช้คำสั่ง"
   ]
  },
  {
   "cell_type": "code",
   "execution_count": 5,
   "metadata": {},
   "outputs": [
    {
     "data": {
      "text/html": [
       "<div>\n",
       "<style>\n",
       "    .dataframe thead tr:only-child th {\n",
       "        text-align: right;\n",
       "    }\n",
       "\n",
       "    .dataframe thead th {\n",
       "        text-align: left;\n",
       "    }\n",
       "\n",
       "    .dataframe tbody tr th {\n",
       "        vertical-align: top;\n",
       "    }\n",
       "</style>\n",
       "<table border=\"1\" class=\"dataframe\">\n",
       "  <thead>\n",
       "    <tr style=\"text-align: right;\">\n",
       "      <th></th>\n",
       "      <th>2541</th>\n",
       "      <th>2543</th>\n",
       "      <th>2545</th>\n",
       "      <th>2547</th>\n",
       "      <th>2549</th>\n",
       "      <th>2550</th>\n",
       "      <th>2552</th>\n",
       "      <th>2554</th>\n",
       "      <th>2556</th>\n",
       "      <th>2558</th>\n",
       "      <th>Region and province</th>\n",
       "    </tr>\n",
       "  </thead>\n",
       "  <tbody>\n",
       "    <tr>\n",
       "      <th>2</th>\n",
       "      <td>12492.0</td>\n",
       "      <td>12150.0</td>\n",
       "      <td>13736.0</td>\n",
       "      <td>14963.0</td>\n",
       "      <td>17787.0</td>\n",
       "      <td>18660.0</td>\n",
       "      <td>20904.0</td>\n",
       "      <td>23236.0</td>\n",
       "      <td>25194.0</td>\n",
       "      <td>26915.0</td>\n",
       "      <td>Whole Kingdom</td>\n",
       "    </tr>\n",
       "    <tr>\n",
       "      <th>3</th>\n",
       "      <td>24929.0</td>\n",
       "      <td>25242.0</td>\n",
       "      <td>28239.0</td>\n",
       "      <td>28135.0</td>\n",
       "      <td>33088.0</td>\n",
       "      <td>35007.0</td>\n",
       "      <td>37732.0</td>\n",
       "      <td>41631.0</td>\n",
       "      <td>43058.0</td>\n",
       "      <td>41002.0</td>\n",
       "      <td>Greater Bangkok</td>\n",
       "    </tr>\n",
       "    <tr>\n",
       "      <th>4</th>\n",
       "      <td>26054.0</td>\n",
       "      <td>26909.0</td>\n",
       "      <td>29589.0</td>\n",
       "      <td>29843.0</td>\n",
       "      <td>36658.0</td>\n",
       "      <td>39020.0</td>\n",
       "      <td>42380.0</td>\n",
       "      <td>48951.0</td>\n",
       "      <td>49191.0</td>\n",
       "      <td>45572.0</td>\n",
       "      <td>Bangkok</td>\n",
       "    </tr>\n",
       "    <tr>\n",
       "      <th>5</th>\n",
       "      <td>18100.0</td>\n",
       "      <td>15745.0</td>\n",
       "      <td>19680.0</td>\n",
       "      <td>19946.0</td>\n",
       "      <td>20382.0</td>\n",
       "      <td>21302.0</td>\n",
       "      <td>23359.0</td>\n",
       "      <td>23798.0</td>\n",
       "      <td>29575.0</td>\n",
       "      <td>25457.0</td>\n",
       "      <td>Samut Prakan</td>\n",
       "    </tr>\n",
       "    <tr>\n",
       "      <th>6</th>\n",
       "      <td>24211.0</td>\n",
       "      <td>24566.0</td>\n",
       "      <td>29119.0</td>\n",
       "      <td>26658.0</td>\n",
       "      <td>31152.0</td>\n",
       "      <td>32743.0</td>\n",
       "      <td>34626.0</td>\n",
       "      <td>35120.0</td>\n",
       "      <td>30664.0</td>\n",
       "      <td>36884.0</td>\n",
       "      <td>Nonthaburi</td>\n",
       "    </tr>\n",
       "  </tbody>\n",
       "</table>\n",
       "</div>"
      ],
      "text/plain": [
       "      2541     2543     2545     2547     2549     2550     2552     2554  \\\n",
       "2  12492.0  12150.0  13736.0  14963.0  17787.0  18660.0  20904.0  23236.0   \n",
       "3  24929.0  25242.0  28239.0  28135.0  33088.0  35007.0  37732.0  41631.0   \n",
       "4  26054.0  26909.0  29589.0  29843.0  36658.0  39020.0  42380.0  48951.0   \n",
       "5  18100.0  15745.0  19680.0  19946.0  20382.0  21302.0  23359.0  23798.0   \n",
       "6  24211.0  24566.0  29119.0  26658.0  31152.0  32743.0  34626.0  35120.0   \n",
       "\n",
       "      2556     2558 Region and province  \n",
       "2  25194.0  26915.0      Whole Kingdom   \n",
       "3  43058.0  41002.0    Greater Bangkok   \n",
       "4  49191.0  45572.0            Bangkok   \n",
       "5  29575.0  25457.0       Samut Prakan   \n",
       "6  30664.0  36884.0         Nonthaburi   "
      ]
     },
     "execution_count": 5,
     "metadata": {},
     "output_type": "execute_result"
    }
   ],
   "source": [
    "income.dropna(inplace=True)\n",
    "income.head()"
   ]
  },
  {
   "cell_type": "markdown",
   "metadata": {
    "collapsed": true
   },
   "source": [
    "ถึงตรงนี้จะเห็นว่าเราได้ตารางข้อมูลรายได้ที่ _สะอาด_ แล้ว เพื่อความสะดวกมากขึ้นในการทำงานต่อไป เราจะเปลี่ยนชื่อ column ที่ระบุปีจาก string ให้เป็นตัวเลข และเปลี่ยนชื่อ column สุดท้ายเป็น `Province` ซึ่งทำได้ด้วยคำสั่งต่อไปนี้"
   ]
  },
  {
   "cell_type": "code",
   "execution_count": 6,
   "metadata": {},
   "outputs": [
    {
     "data": {
      "text/html": [
       "<div>\n",
       "<style>\n",
       "    .dataframe thead tr:only-child th {\n",
       "        text-align: right;\n",
       "    }\n",
       "\n",
       "    .dataframe thead th {\n",
       "        text-align: left;\n",
       "    }\n",
       "\n",
       "    .dataframe tbody tr th {\n",
       "        vertical-align: top;\n",
       "    }\n",
       "</style>\n",
       "<table border=\"1\" class=\"dataframe\">\n",
       "  <thead>\n",
       "    <tr style=\"text-align: right;\">\n",
       "      <th></th>\n",
       "      <th>2541</th>\n",
       "      <th>2543</th>\n",
       "      <th>2545</th>\n",
       "      <th>2547</th>\n",
       "      <th>2549</th>\n",
       "      <th>2550</th>\n",
       "      <th>2552</th>\n",
       "      <th>2554</th>\n",
       "      <th>2556</th>\n",
       "      <th>2558</th>\n",
       "      <th>Province</th>\n",
       "    </tr>\n",
       "  </thead>\n",
       "  <tbody>\n",
       "    <tr>\n",
       "      <th>2</th>\n",
       "      <td>12492.0</td>\n",
       "      <td>12150.0</td>\n",
       "      <td>13736.0</td>\n",
       "      <td>14963.0</td>\n",
       "      <td>17787.0</td>\n",
       "      <td>18660.0</td>\n",
       "      <td>20904.0</td>\n",
       "      <td>23236.0</td>\n",
       "      <td>25194.0</td>\n",
       "      <td>26915.0</td>\n",
       "      <td>Whole Kingdom</td>\n",
       "    </tr>\n",
       "    <tr>\n",
       "      <th>3</th>\n",
       "      <td>24929.0</td>\n",
       "      <td>25242.0</td>\n",
       "      <td>28239.0</td>\n",
       "      <td>28135.0</td>\n",
       "      <td>33088.0</td>\n",
       "      <td>35007.0</td>\n",
       "      <td>37732.0</td>\n",
       "      <td>41631.0</td>\n",
       "      <td>43058.0</td>\n",
       "      <td>41002.0</td>\n",
       "      <td>Greater Bangkok</td>\n",
       "    </tr>\n",
       "    <tr>\n",
       "      <th>4</th>\n",
       "      <td>26054.0</td>\n",
       "      <td>26909.0</td>\n",
       "      <td>29589.0</td>\n",
       "      <td>29843.0</td>\n",
       "      <td>36658.0</td>\n",
       "      <td>39020.0</td>\n",
       "      <td>42380.0</td>\n",
       "      <td>48951.0</td>\n",
       "      <td>49191.0</td>\n",
       "      <td>45572.0</td>\n",
       "      <td>Bangkok</td>\n",
       "    </tr>\n",
       "    <tr>\n",
       "      <th>5</th>\n",
       "      <td>18100.0</td>\n",
       "      <td>15745.0</td>\n",
       "      <td>19680.0</td>\n",
       "      <td>19946.0</td>\n",
       "      <td>20382.0</td>\n",
       "      <td>21302.0</td>\n",
       "      <td>23359.0</td>\n",
       "      <td>23798.0</td>\n",
       "      <td>29575.0</td>\n",
       "      <td>25457.0</td>\n",
       "      <td>Samut Prakan</td>\n",
       "    </tr>\n",
       "    <tr>\n",
       "      <th>6</th>\n",
       "      <td>24211.0</td>\n",
       "      <td>24566.0</td>\n",
       "      <td>29119.0</td>\n",
       "      <td>26658.0</td>\n",
       "      <td>31152.0</td>\n",
       "      <td>32743.0</td>\n",
       "      <td>34626.0</td>\n",
       "      <td>35120.0</td>\n",
       "      <td>30664.0</td>\n",
       "      <td>36884.0</td>\n",
       "      <td>Nonthaburi</td>\n",
       "    </tr>\n",
       "  </tbody>\n",
       "</table>\n",
       "</div>"
      ],
      "text/plain": [
       "      2541     2543     2545     2547     2549     2550     2552     2554  \\\n",
       "2  12492.0  12150.0  13736.0  14963.0  17787.0  18660.0  20904.0  23236.0   \n",
       "3  24929.0  25242.0  28239.0  28135.0  33088.0  35007.0  37732.0  41631.0   \n",
       "4  26054.0  26909.0  29589.0  29843.0  36658.0  39020.0  42380.0  48951.0   \n",
       "5  18100.0  15745.0  19680.0  19946.0  20382.0  21302.0  23359.0  23798.0   \n",
       "6  24211.0  24566.0  29119.0  26658.0  31152.0  32743.0  34626.0  35120.0   \n",
       "\n",
       "      2556     2558            Province  \n",
       "2  25194.0  26915.0      Whole Kingdom   \n",
       "3  43058.0  41002.0    Greater Bangkok   \n",
       "4  49191.0  45572.0            Bangkok   \n",
       "5  29575.0  25457.0       Samut Prakan   \n",
       "6  30664.0  36884.0         Nonthaburi   "
      ]
     },
     "execution_count": 6,
     "metadata": {},
     "output_type": "execute_result"
    }
   ],
   "source": [
    "income.columns = [2541, 2543, 2545, 2547, 2549, \n",
    "                  2550, 2552, 2554, 2556, 2558, 'Province']\n",
    "income.head()"
   ]
  },
  {
   "cell_type": "markdown",
   "metadata": {},
   "source": [
    "***"
   ]
  },
  {
   "cell_type": "markdown",
   "metadata": {},
   "source": [
    "## การแสดงข้อมูลรายได้ด้วยภาพ\n",
    "\n",
    "หากเราต้องการวิเคราะห์รายได้เฉลี่ยต่อครัวเรือนในปี 2558 ของแต่ละจังหวัด ก็สามารถดูได้จากตาราง `income` (เราสามารถเรียกดูเฉพาะ column  `Province` และ `2558` ได้โดยการเรียก `income[['Province', 2558]]`\n",
    "\n",
    "อย่างไรก็ดี การแสดงข้อมูลด้วยวิธีดังกล่าวอาจไม่ใช่วิธีที่ดี ในวิทยาศาสตร์ข้อมูล เรานิยมแสดงข้อมูลด้วยภาพเนื่องจากทำให้เรามองเห็นภาพรวมของข้อมูลได้ดีกว่ารายการของตัวเลข ในหัวข้อนี้เราจะมาดูการใช้ Matplotlib ในการแสดงแผนภาพเบื้องต้น"
   ]
  },
  {
   "cell_type": "markdown",
   "metadata": {},
   "source": [
    "เริ่มต้นด้วยการ import `matplotlib.pyplot` ซึ่งเราจะเรียกแทนด้วยตัวแปร `plt` เพื่อความสะดวก\n",
    "นอกจากนี้ เราสามารถสั่ง `import seaborn; seaborn.set()` เพิ่มเติมเพื่อช่วยตกแต่งกราฟต่าง ๆ ให้สวยงาม"
   ]
  },
  {
   "cell_type": "code",
   "execution_count": 7,
   "metadata": {
    "collapsed": true
   },
   "outputs": [],
   "source": [
    "import matplotlib.pyplot as plt\n",
    "import seaborn\n",
    "seaborn.set()"
   ]
  },
  {
   "cell_type": "markdown",
   "metadata": {},
   "source": [
    "บนเว็บไซต์ศูนย์กลางข้อมูลภาครัฐ (https://data.go.th/) มีข้อมูลตำแหน่ง (ละติจูด และ ลองจิจูด) ของตำบลในประเทศไทย ซึ่งจะช่วยให้เราแสดงข้อมูลรายได้ตามตำแหน่งได้ เราจะลองอ่านข้อมูลจากไฟล์ดังกล่าวมาลองพลอตตำแหน่งของแต่ละตำบลดูก่อน โดยข้อมูลดังกล่าวเก็บอยู่ในไฟล์ชื่ `tambon.csv`"
   ]
  },
  {
   "cell_type": "code",
   "execution_count": 8,
   "metadata": {},
   "outputs": [
    {
     "data": {
      "text/html": [
       "<div>\n",
       "<style>\n",
       "    .dataframe thead tr:only-child th {\n",
       "        text-align: right;\n",
       "    }\n",
       "\n",
       "    .dataframe thead th {\n",
       "        text-align: left;\n",
       "    }\n",
       "\n",
       "    .dataframe tbody tr th {\n",
       "        vertical-align: top;\n",
       "    }\n",
       "</style>\n",
       "<table border=\"1\" class=\"dataframe\">\n",
       "  <thead>\n",
       "    <tr style=\"text-align: right;\">\n",
       "      <th></th>\n",
       "      <th>AD_LEVEL</th>\n",
       "      <th>TA_ID</th>\n",
       "      <th>TAMBON_T</th>\n",
       "      <th>TAMBON_E</th>\n",
       "      <th>AM_ID</th>\n",
       "      <th>AMPHOE_T</th>\n",
       "      <th>AMPHOE_E</th>\n",
       "      <th>CH_ID</th>\n",
       "      <th>CHANGWAT_T</th>\n",
       "      <th>CHANGWAT_E</th>\n",
       "      <th>LAT</th>\n",
       "      <th>LONG</th>\n",
       "    </tr>\n",
       "  </thead>\n",
       "  <tbody>\n",
       "    <tr>\n",
       "      <th>0</th>\n",
       "      <td>4</td>\n",
       "      <td>910106</td>\n",
       "      <td>ต. เกาะสาหร่าย</td>\n",
       "      <td>Ko Sarai</td>\n",
       "      <td>9101</td>\n",
       "      <td>อ. เมืองสตูล</td>\n",
       "      <td>Mueang Satun</td>\n",
       "      <td>91</td>\n",
       "      <td>จ. สตูล</td>\n",
       "      <td>Satun</td>\n",
       "      <td>6.546</td>\n",
       "      <td>99.706</td>\n",
       "    </tr>\n",
       "    <tr>\n",
       "      <th>1</th>\n",
       "      <td>4</td>\n",
       "      <td>210114</td>\n",
       "      <td>ต. มาบตาพุด</td>\n",
       "      <td>Maptaphut</td>\n",
       "      <td>2101</td>\n",
       "      <td>อ. เมืองระยอง</td>\n",
       "      <td>Mueang Rayong</td>\n",
       "      <td>21</td>\n",
       "      <td>จ. ระยอง</td>\n",
       "      <td>Rayong</td>\n",
       "      <td>12.646</td>\n",
       "      <td>101.171</td>\n",
       "    </tr>\n",
       "    <tr>\n",
       "      <th>2</th>\n",
       "      <td>4</td>\n",
       "      <td>210114</td>\n",
       "      <td>ต. มาบตาพุด</td>\n",
       "      <td>Maptaphut</td>\n",
       "      <td>2101</td>\n",
       "      <td>อ. เมืองระยอง</td>\n",
       "      <td>Mueang Rayong</td>\n",
       "      <td>21</td>\n",
       "      <td>จ. ระยอง</td>\n",
       "      <td>Rayong</td>\n",
       "      <td>12.645</td>\n",
       "      <td>101.170</td>\n",
       "    </tr>\n",
       "    <tr>\n",
       "      <th>3</th>\n",
       "      <td>4</td>\n",
       "      <td>210114</td>\n",
       "      <td>ต. มาบตาพุด</td>\n",
       "      <td>Maptaphut</td>\n",
       "      <td>2101</td>\n",
       "      <td>อ. เมืองระยอง</td>\n",
       "      <td>Mueang Rayong</td>\n",
       "      <td>21</td>\n",
       "      <td>จ. ระยอง</td>\n",
       "      <td>Rayong</td>\n",
       "      <td>12.649</td>\n",
       "      <td>101.174</td>\n",
       "    </tr>\n",
       "    <tr>\n",
       "      <th>4</th>\n",
       "      <td>4</td>\n",
       "      <td>210114</td>\n",
       "      <td>ต. มาบตาพุด</td>\n",
       "      <td>Maptaphut</td>\n",
       "      <td>2101</td>\n",
       "      <td>อ. เมืองระยอง</td>\n",
       "      <td>Mueang Rayong</td>\n",
       "      <td>21</td>\n",
       "      <td>จ. ระยอง</td>\n",
       "      <td>Rayong</td>\n",
       "      <td>12.644</td>\n",
       "      <td>101.169</td>\n",
       "    </tr>\n",
       "  </tbody>\n",
       "</table>\n",
       "</div>"
      ],
      "text/plain": [
       "   AD_LEVEL   TA_ID        TAMBON_T   TAMBON_E  AM_ID       AMPHOE_T  \\\n",
       "0         4  910106  ต. เกาะสาหร่าย   Ko Sarai   9101   อ. เมืองสตูล   \n",
       "1         4  210114     ต. มาบตาพุด  Maptaphut   2101  อ. เมืองระยอง   \n",
       "2         4  210114     ต. มาบตาพุด  Maptaphut   2101  อ. เมืองระยอง   \n",
       "3         4  210114     ต. มาบตาพุด  Maptaphut   2101  อ. เมืองระยอง   \n",
       "4         4  210114     ต. มาบตาพุด  Maptaphut   2101  อ. เมืองระยอง   \n",
       "\n",
       "        AMPHOE_E  CH_ID CHANGWAT_T CHANGWAT_E     LAT     LONG  \n",
       "0   Mueang Satun     91    จ. สตูล      Satun   6.546   99.706  \n",
       "1  Mueang Rayong     21   จ. ระยอง     Rayong  12.646  101.171  \n",
       "2  Mueang Rayong     21   จ. ระยอง     Rayong  12.645  101.170  \n",
       "3  Mueang Rayong     21   จ. ระยอง     Rayong  12.649  101.174  \n",
       "4  Mueang Rayong     21   จ. ระยอง     Rayong  12.644  101.169  "
      ]
     },
     "execution_count": 8,
     "metadata": {},
     "output_type": "execute_result"
    }
   ],
   "source": [
    "locations = pd.read_csv('data/tambon.csv')\n",
    "locations.head()"
   ]
  },
  {
   "cell_type": "markdown",
   "metadata": {},
   "source": [
    "เนื่องจากเราต้องการเพียงข้อมูลละติจูดและลองจิจูดของแต่ละตำบลเท่านั้น เราสามารถกรองข้อมูลได้โดยใช้คำสั่งดังนี้"
   ]
  },
  {
   "cell_type": "code",
   "execution_count": 9,
   "metadata": {},
   "outputs": [
    {
     "data": {
      "text/html": [
       "<div>\n",
       "<style>\n",
       "    .dataframe thead tr:only-child th {\n",
       "        text-align: right;\n",
       "    }\n",
       "\n",
       "    .dataframe thead th {\n",
       "        text-align: left;\n",
       "    }\n",
       "\n",
       "    .dataframe tbody tr th {\n",
       "        vertical-align: top;\n",
       "    }\n",
       "</style>\n",
       "<table border=\"1\" class=\"dataframe\">\n",
       "  <thead>\n",
       "    <tr style=\"text-align: right;\">\n",
       "      <th></th>\n",
       "      <th>TAMBON_E</th>\n",
       "      <th>CHANGWAT_E</th>\n",
       "      <th>LAT</th>\n",
       "      <th>LONG</th>\n",
       "    </tr>\n",
       "  </thead>\n",
       "  <tbody>\n",
       "    <tr>\n",
       "      <th>0</th>\n",
       "      <td>Ko Sarai</td>\n",
       "      <td>Satun</td>\n",
       "      <td>6.546</td>\n",
       "      <td>99.706</td>\n",
       "    </tr>\n",
       "    <tr>\n",
       "      <th>1</th>\n",
       "      <td>Maptaphut</td>\n",
       "      <td>Rayong</td>\n",
       "      <td>12.646</td>\n",
       "      <td>101.171</td>\n",
       "    </tr>\n",
       "    <tr>\n",
       "      <th>2</th>\n",
       "      <td>Maptaphut</td>\n",
       "      <td>Rayong</td>\n",
       "      <td>12.645</td>\n",
       "      <td>101.170</td>\n",
       "    </tr>\n",
       "    <tr>\n",
       "      <th>3</th>\n",
       "      <td>Maptaphut</td>\n",
       "      <td>Rayong</td>\n",
       "      <td>12.649</td>\n",
       "      <td>101.174</td>\n",
       "    </tr>\n",
       "    <tr>\n",
       "      <th>4</th>\n",
       "      <td>Maptaphut</td>\n",
       "      <td>Rayong</td>\n",
       "      <td>12.644</td>\n",
       "      <td>101.169</td>\n",
       "    </tr>\n",
       "  </tbody>\n",
       "</table>\n",
       "</div>"
      ],
      "text/plain": [
       "    TAMBON_E CHANGWAT_E     LAT     LONG\n",
       "0   Ko Sarai      Satun   6.546   99.706\n",
       "1  Maptaphut     Rayong  12.646  101.171\n",
       "2  Maptaphut     Rayong  12.645  101.170\n",
       "3  Maptaphut     Rayong  12.649  101.174\n",
       "4  Maptaphut     Rayong  12.644  101.169"
      ]
     },
     "execution_count": 9,
     "metadata": {},
     "output_type": "execute_result"
    }
   ],
   "source": [
    "selected_columns = ['TAMBON_E', 'CHANGWAT_E', 'LAT', 'LONG']\n",
    "locations = locations[selected_columns]\n",
    "locations.head()"
   ]
  },
  {
   "cell_type": "markdown",
   "metadata": {},
   "source": [
    "และทำการเปลี่ยนชื่อ column เพื่อความสะดวก"
   ]
  },
  {
   "cell_type": "code",
   "execution_count": 10,
   "metadata": {},
   "outputs": [
    {
     "data": {
      "text/html": [
       "<div>\n",
       "<style>\n",
       "    .dataframe thead tr:only-child th {\n",
       "        text-align: right;\n",
       "    }\n",
       "\n",
       "    .dataframe thead th {\n",
       "        text-align: left;\n",
       "    }\n",
       "\n",
       "    .dataframe tbody tr th {\n",
       "        vertical-align: top;\n",
       "    }\n",
       "</style>\n",
       "<table border=\"1\" class=\"dataframe\">\n",
       "  <thead>\n",
       "    <tr style=\"text-align: right;\">\n",
       "      <th></th>\n",
       "      <th>Tambon</th>\n",
       "      <th>Province</th>\n",
       "      <th>Latitude</th>\n",
       "      <th>Longitude</th>\n",
       "    </tr>\n",
       "  </thead>\n",
       "  <tbody>\n",
       "    <tr>\n",
       "      <th>0</th>\n",
       "      <td>Ko Sarai</td>\n",
       "      <td>Satun</td>\n",
       "      <td>6.546</td>\n",
       "      <td>99.706</td>\n",
       "    </tr>\n",
       "    <tr>\n",
       "      <th>1</th>\n",
       "      <td>Maptaphut</td>\n",
       "      <td>Rayong</td>\n",
       "      <td>12.646</td>\n",
       "      <td>101.171</td>\n",
       "    </tr>\n",
       "    <tr>\n",
       "      <th>2</th>\n",
       "      <td>Maptaphut</td>\n",
       "      <td>Rayong</td>\n",
       "      <td>12.645</td>\n",
       "      <td>101.170</td>\n",
       "    </tr>\n",
       "    <tr>\n",
       "      <th>3</th>\n",
       "      <td>Maptaphut</td>\n",
       "      <td>Rayong</td>\n",
       "      <td>12.649</td>\n",
       "      <td>101.174</td>\n",
       "    </tr>\n",
       "    <tr>\n",
       "      <th>4</th>\n",
       "      <td>Maptaphut</td>\n",
       "      <td>Rayong</td>\n",
       "      <td>12.644</td>\n",
       "      <td>101.169</td>\n",
       "    </tr>\n",
       "  </tbody>\n",
       "</table>\n",
       "</div>"
      ],
      "text/plain": [
       "      Tambon Province  Latitude  Longitude\n",
       "0   Ko Sarai    Satun     6.546     99.706\n",
       "1  Maptaphut   Rayong    12.646    101.171\n",
       "2  Maptaphut   Rayong    12.645    101.170\n",
       "3  Maptaphut   Rayong    12.649    101.174\n",
       "4  Maptaphut   Rayong    12.644    101.169"
      ]
     },
     "execution_count": 10,
     "metadata": {},
     "output_type": "execute_result"
    }
   ],
   "source": [
    "locations.columns = ['Tambon', 'Province', 'Latitude', 'Longitude']\n",
    "locations.head()"
   ]
  },
  {
   "cell_type": "markdown",
   "metadata": {},
   "source": [
    "ถึงตรงนี้ เราจะลองพลอตจุดสำหรับแต่ละตำบลตามพิกัดของตำบลนั้น ๆ ด้วยฟังก์ชัน `scatter` ของ `plt` ซึ่งจะรับพารามิเตอร์หลักสองตัวได้แก่\n",
    "ลิสต์ของข้อมูลตามแกน `x` และลิสต์ของข้อมูลตามแกน `y` ในที่นี้เราจะใช้ `locations['Longitude']` และ `locations['Latitude']` แทนข้อมูลดังกล่าวตามลำดับ\n",
    "\n",
    "ก่อนอื่นเราจะกำหนดขนาดภาพก่อนด้วยคำสั่งดังนี้"
   ]
  },
  {
   "cell_type": "code",
   "execution_count": 11,
   "metadata": {},
   "outputs": [
    {
     "data": {
      "text/plain": [
       "<matplotlib.figure.Figure at 0x10bd5d748>"
      ]
     },
     "execution_count": 11,
     "metadata": {},
     "output_type": "execute_result"
    }
   ],
   "source": [
    "plt.figure(figsize=(8, 12))"
   ]
  },
  {
   "cell_type": "markdown",
   "metadata": {},
   "source": [
    "จากนั้นสั่งให้ `plt` พลอตจุดต่าง ๆ ลงไป"
   ]
  },
  {
   "cell_type": "code",
   "execution_count": 12,
   "metadata": {},
   "outputs": [
    {
     "data": {
      "text/plain": [
       "<matplotlib.collections.PathCollection at 0x10ed2fe10>"
      ]
     },
     "execution_count": 12,
     "metadata": {},
     "output_type": "execute_result"
    }
   ],
   "source": [
    "plt.scatter(locations['Longitude'], locations['Latitude'])"
   ]
  },
  {
   "cell_type": "markdown",
   "metadata": {},
   "source": [
    "จากนั้น หากต้องการให้ข้อมูลทั้งหมดที่พลอตอยู่บน `plt` แสดงออกมา ให้เรียกคำสั่งดังนี้"
   ]
  },
  {
   "cell_type": "code",
   "execution_count": 13,
   "metadata": {},
   "outputs": [
    {
     "data": {
      "image/png": "[encoded data removed]",
      "text/plain": [
       "<matplotlib.figure.Figure at 0x10bd5d748>"
      ]
     },
     "metadata": {},
     "output_type": "display_data"
    }
   ],
   "source": [
    "plt.show()"
   ]
  },
  {
   "cell_type": "markdown",
   "metadata": {},
   "source": [
    "จากภาพ เราจะสามารถสังเกตความหนาแน่นของตำบลในแต่ละพื้นที่ได้จากจำนวนจุดในภาพ \n",
    "ถึงตรงนี้ เราจะกลับมาหาวิธีแสดงรายได้เฉลี่ยในปี 2558 ของแต่ละจังหวัดในตัวแปร `income` บนแผนที่เช่นนี้\n",
    "\n",
    "ขั้นตอนแรก เราต้องทำการรวมข้อมูลจากไฟล์ `income` และ `locations` เสียก่อน\n",
    "เพื่อให้ข้อมูลพิกัดและรายได้มีความสอดคล้องกัน เราสามารถรวม DataFrame เข้าด้วยกันได้ด้วยฟังก์ชัน `merge` ดังนี้"
   ]
  },
  {
   "cell_type": "code",
   "execution_count": 14,
   "metadata": {
    "collapsed": true
   },
   "outputs": [],
   "source": [
    "location_income = pd.merge(income, locations, on='Province')"
   ]
  },
  {
   "cell_type": "markdown",
   "metadata": {},
   "source": [
    "argument `on='Province'` เป็นการบอกฟังก์ชัน `merge` ให้รวมข้อมูลโดยเทียบข้อมูลใร column `Province` ให้ตรงกัน\n",
    "อย่างไรก็ดี เมื่อเราเรียกดูสิ่งที่ได้จาก `location_income` "
   ]
  },
  {
   "cell_type": "code",
   "execution_count": 15,
   "metadata": {},
   "outputs": [
    {
     "data": {
      "text/html": [
       "<div>\n",
       "<style>\n",
       "    .dataframe thead tr:only-child th {\n",
       "        text-align: right;\n",
       "    }\n",
       "\n",
       "    .dataframe thead th {\n",
       "        text-align: left;\n",
       "    }\n",
       "\n",
       "    .dataframe tbody tr th {\n",
       "        vertical-align: top;\n",
       "    }\n",
       "</style>\n",
       "<table border=\"1\" class=\"dataframe\">\n",
       "  <thead>\n",
       "    <tr style=\"text-align: right;\">\n",
       "      <th></th>\n",
       "      <th>2541</th>\n",
       "      <th>2543</th>\n",
       "      <th>2545</th>\n",
       "      <th>2547</th>\n",
       "      <th>2549</th>\n",
       "      <th>2550</th>\n",
       "      <th>2552</th>\n",
       "      <th>2554</th>\n",
       "      <th>2556</th>\n",
       "      <th>2558</th>\n",
       "      <th>Province</th>\n",
       "      <th>Tambon</th>\n",
       "      <th>Latitude</th>\n",
       "      <th>Longitude</th>\n",
       "    </tr>\n",
       "  </thead>\n",
       "  <tbody>\n",
       "  </tbody>\n",
       "</table>\n",
       "</div>"
      ],
      "text/plain": [
       "Empty DataFrame\n",
       "Columns: [2541, 2543, 2545, 2547, 2549, 2550, 2552, 2554, 2556, 2558, Province, Tambon, Latitude, Longitude]\n",
       "Index: []"
      ]
     },
     "execution_count": 15,
     "metadata": {},
     "output_type": "execute_result"
    }
   ],
   "source": [
    "location_income.head()"
   ]
  },
  {
   "cell_type": "markdown",
   "metadata": {},
   "source": [
    "จะเห็นว่าตารางผลลัพธ์มีชื่อ column ของทั้งสองตารางรวมกันเรียบร้อยแล้ว แต่ไม่มีข้อมูล!!! นั่นหมายความว่าฟังก์ชัน `merge` ไม่พบแถวใน `income`\n",
    "และแถวใน `location` ที่มีค่าใน column `Province` ตรงกันเลย!!!\n",
    "\n",
    "ปัญหานี้เกิดจากข้อมูลในไฟล์ income.csv ใน column \"Region and province\" (ที่เราตั้งชื่อให้ใหม่ว่า \"Province\") \n",
    "นั้นมีช่องว่างอยู่รอบข้อความ เช่น `\"Bangkok \"` ซึ่งเมื่อนำมาเทียบกับ `\"Bangkok\"` ในไฟล์ location.csv จึงไม่ตรงกัน\n",
    "เราจำเป็นต้องไปจัดการลบช่องว่างใน column ดังกล่าวของทุกแถวใน `income` วิธีหนึ่งที่ทำได้คือการวนรอบดังนี้"
   ]
  },
  {
   "cell_type": "code",
   "execution_count": 16,
   "metadata": {
    "collapsed": true
   },
   "outputs": [],
   "source": [
    "row = income.shape[0]\n",
    "income = income.reset_index()\n",
    "for i in range(row):\n",
    "    income.loc[i, 'Province'] = income.loc[i, 'Province'].strip()"
   ]
  },
  {
   "cell_type": "markdown",
   "metadata": {},
   "source": [
    "อย่างไรก็ดี การวนรอบด้วยคำสั่ง `for` นั้นจะเสียเวลาเกินจำเป็น Pandas เปิดช่องทางให้เราสามารถคำนวณข้อมูลในตารางได้โดยใช้เทคนิค\n",
    "_vectorization_ ซึ่งจะใช้เวลาเร็วกว่ามาก ใน jupyter notebook เราสามารถจับเวลาการทำงานของแต่ละเซลได้ด้วยคำสั่งพิเศษ\n",
    "`%%timeit` เรามาลองเปรียบเทียบการทำงานสองวิธีดังนี้"
   ]
  },
  {
   "cell_type": "code",
   "execution_count": 17,
   "metadata": {},
   "outputs": [
    {
     "name": "stdout",
     "output_type": "stream",
     "text": [
      "10 loops, best of 3: 40 ms per loop\n"
     ]
    }
   ],
   "source": [
    "%%timeit\n",
    "for i in range(row):\n",
    "    income.loc[i, 'Province'] = income.loc[i, 'Province'].strip()"
   ]
  },
  {
   "cell_type": "code",
   "execution_count": 18,
   "metadata": {},
   "outputs": [
    {
     "name": "stdout",
     "output_type": "stream",
     "text": [
      "1000 loops, best of 3: 232 µs per loop\n"
     ]
    }
   ],
   "source": [
    "%%timeit\n",
    "income['Province'].str.strip()"
   ]
  },
  {
   "cell_type": "markdown",
   "metadata": {},
   "source": [
    "จะเห็นว่าการใช้ vectorization ทำงานได้เร็วกว่ามาก ดังนั้น ทุกครั้งที่เราเขียนโค้ดสำหรับประมวลผลข้อมูลด้วยวนรอบ `for` \n",
    "ควรนึกเสมอว่าเราสามารถทำกระบวนการดังกล่าวด้วย vectorization ได้หรือไม่\n",
    "\n",
    "ถึงตรงนี้ เราสามารถรวมไฟล์ `income` และ `locations` ใหม่ได้ดังนี้"
   ]
  },
  {
   "cell_type": "code",
   "execution_count": 19,
   "metadata": {},
   "outputs": [
    {
     "data": {
      "text/html": [
       "<div>\n",
       "<style>\n",
       "    .dataframe thead tr:only-child th {\n",
       "        text-align: right;\n",
       "    }\n",
       "\n",
       "    .dataframe thead th {\n",
       "        text-align: left;\n",
       "    }\n",
       "\n",
       "    .dataframe tbody tr th {\n",
       "        vertical-align: top;\n",
       "    }\n",
       "</style>\n",
       "<table border=\"1\" class=\"dataframe\">\n",
       "  <thead>\n",
       "    <tr style=\"text-align: right;\">\n",
       "      <th></th>\n",
       "      <th>index</th>\n",
       "      <th>2541</th>\n",
       "      <th>2543</th>\n",
       "      <th>2545</th>\n",
       "      <th>2547</th>\n",
       "      <th>2549</th>\n",
       "      <th>2550</th>\n",
       "      <th>2552</th>\n",
       "      <th>2554</th>\n",
       "      <th>2556</th>\n",
       "      <th>2558</th>\n",
       "      <th>Province</th>\n",
       "      <th>Tambon</th>\n",
       "      <th>Latitude</th>\n",
       "      <th>Longitude</th>\n",
       "    </tr>\n",
       "  </thead>\n",
       "  <tbody>\n",
       "    <tr>\n",
       "      <th>0</th>\n",
       "      <td>4</td>\n",
       "      <td>26054.0</td>\n",
       "      <td>26909.0</td>\n",
       "      <td>29589.0</td>\n",
       "      <td>29843.0</td>\n",
       "      <td>36658.0</td>\n",
       "      <td>39020.0</td>\n",
       "      <td>42380.0</td>\n",
       "      <td>48951.0</td>\n",
       "      <td>49191.0</td>\n",
       "      <td>45572.0</td>\n",
       "      <td>Bangkok</td>\n",
       "      <td>Sao Chingcha</td>\n",
       "      <td>13.753</td>\n",
       "      <td>100.500</td>\n",
       "    </tr>\n",
       "    <tr>\n",
       "      <th>1</th>\n",
       "      <td>4</td>\n",
       "      <td>26054.0</td>\n",
       "      <td>26909.0</td>\n",
       "      <td>29589.0</td>\n",
       "      <td>29843.0</td>\n",
       "      <td>36658.0</td>\n",
       "      <td>39020.0</td>\n",
       "      <td>42380.0</td>\n",
       "      <td>48951.0</td>\n",
       "      <td>49191.0</td>\n",
       "      <td>45572.0</td>\n",
       "      <td>Bangkok</td>\n",
       "      <td>San Chaopho Suea</td>\n",
       "      <td>13.754</td>\n",
       "      <td>100.497</td>\n",
       "    </tr>\n",
       "    <tr>\n",
       "      <th>2</th>\n",
       "      <td>4</td>\n",
       "      <td>26054.0</td>\n",
       "      <td>26909.0</td>\n",
       "      <td>29589.0</td>\n",
       "      <td>29843.0</td>\n",
       "      <td>36658.0</td>\n",
       "      <td>39020.0</td>\n",
       "      <td>42380.0</td>\n",
       "      <td>48951.0</td>\n",
       "      <td>49191.0</td>\n",
       "      <td>45572.0</td>\n",
       "      <td>Bangkok</td>\n",
       "      <td>Talat Yot</td>\n",
       "      <td>13.760</td>\n",
       "      <td>100.498</td>\n",
       "    </tr>\n",
       "    <tr>\n",
       "      <th>3</th>\n",
       "      <td>4</td>\n",
       "      <td>26054.0</td>\n",
       "      <td>26909.0</td>\n",
       "      <td>29589.0</td>\n",
       "      <td>29843.0</td>\n",
       "      <td>36658.0</td>\n",
       "      <td>39020.0</td>\n",
       "      <td>42380.0</td>\n",
       "      <td>48951.0</td>\n",
       "      <td>49191.0</td>\n",
       "      <td>45572.0</td>\n",
       "      <td>Bangkok</td>\n",
       "      <td>Wat Ratchabophit</td>\n",
       "      <td>13.750</td>\n",
       "      <td>100.499</td>\n",
       "    </tr>\n",
       "    <tr>\n",
       "      <th>4</th>\n",
       "      <td>4</td>\n",
       "      <td>26054.0</td>\n",
       "      <td>26909.0</td>\n",
       "      <td>29589.0</td>\n",
       "      <td>29843.0</td>\n",
       "      <td>36658.0</td>\n",
       "      <td>39020.0</td>\n",
       "      <td>42380.0</td>\n",
       "      <td>48951.0</td>\n",
       "      <td>49191.0</td>\n",
       "      <td>45572.0</td>\n",
       "      <td>Bangkok</td>\n",
       "      <td>Samran Rat</td>\n",
       "      <td>13.751</td>\n",
       "      <td>100.503</td>\n",
       "    </tr>\n",
       "  </tbody>\n",
       "</table>\n",
       "</div>"
      ],
      "text/plain": [
       "   index     2541     2543     2545     2547     2549     2550     2552  \\\n",
       "0      4  26054.0  26909.0  29589.0  29843.0  36658.0  39020.0  42380.0   \n",
       "1      4  26054.0  26909.0  29589.0  29843.0  36658.0  39020.0  42380.0   \n",
       "2      4  26054.0  26909.0  29589.0  29843.0  36658.0  39020.0  42380.0   \n",
       "3      4  26054.0  26909.0  29589.0  29843.0  36658.0  39020.0  42380.0   \n",
       "4      4  26054.0  26909.0  29589.0  29843.0  36658.0  39020.0  42380.0   \n",
       "\n",
       "      2554     2556     2558 Province            Tambon  Latitude  Longitude  \n",
       "0  48951.0  49191.0  45572.0  Bangkok      Sao Chingcha    13.753    100.500  \n",
       "1  48951.0  49191.0  45572.0  Bangkok  San Chaopho Suea    13.754    100.497  \n",
       "2  48951.0  49191.0  45572.0  Bangkok         Talat Yot    13.760    100.498  \n",
       "3  48951.0  49191.0  45572.0  Bangkok  Wat Ratchabophit    13.750    100.499  \n",
       "4  48951.0  49191.0  45572.0  Bangkok        Samran Rat    13.751    100.503  "
      ]
     },
     "execution_count": 19,
     "metadata": {},
     "output_type": "execute_result"
    }
   ],
   "source": [
    "location_income = pd.merge(income, locations, on='Province')\n",
    "location_income.head()"
   ]
  },
  {
   "cell_type": "markdown",
   "metadata": {},
   "source": [
    "คราวนี้เราจะลองพลอตพิกัดของแต่ละตำบลด้วย `plt.scatter` เช่นเดิม แต่ละปรับโทนสีของแต่ละจุดของตำบลตามรายได้เฉลี่ยต่าครัวเรือนของจังหวัดของตำบลนั้น ๆ"
   ]
  },
  {
   "cell_type": "code",
   "execution_count": 20,
   "metadata": {},
   "outputs": [
    {
     "data": {
      "image/png": "[encoded data removed]",
      "text/plain": [
       "<matplotlib.figure.Figure at 0x10f2a5080>"
      ]
     },
     "metadata": {},
     "output_type": "display_data"
    }
   ],
   "source": [
    "plt.figure(figsize=(10, 12))\n",
    "plt.scatter(location_income['Longitude'], location_income['Latitude'],\n",
    "            c=location_income[2558], cmap='jet', alpha=0.3)\n",
    "plt.colorbar()\n",
    "plt.title('Income 2558')\n",
    "plt.show()"
   ]
  },
  {
   "cell_type": "markdown",
   "metadata": {},
   "source": [
    "จากภาพ เราสามารถบอกได้คร่าว ๆ ว่าจังหวัดที่มีรายได้เฉลี่ยต่อครัวเรือนสูง คือจังหวัดที่มีโทนสีเป็นสีแดง ได่แก่ กทม และนครปฐม เป็นต้น\n",
    "***"
   ]
  },
  {
   "cell_type": "markdown",
   "metadata": {},
   "source": [
    "## วิเคราะห์รายได้เฉลี่ย และทำนายรายได้เฉลี่ยปี 2560\n",
    "\n",
    "ในหัวข้อนี้ เราจะมาดูกระบวนการสำคัญอีกส่วนหนึ่งในงานด้านวิทยาศาสตร์ข้อมูล คือการวิเคราะห์ข้อมูล \n",
    "หากเราย้อนกลับมาดูที่ข้อมูลรายได้เฉลี่ยต่อครัวเรือนของแต่ละจังหวัดในไฟล์ `income` ดังนี้"
   ]
  },
  {
   "cell_type": "code",
   "execution_count": 21,
   "metadata": {},
   "outputs": [
    {
     "data": {
      "text/html": [
       "<div>\n",
       "<style>\n",
       "    .dataframe thead tr:only-child th {\n",
       "        text-align: right;\n",
       "    }\n",
       "\n",
       "    .dataframe thead th {\n",
       "        text-align: left;\n",
       "    }\n",
       "\n",
       "    .dataframe tbody tr th {\n",
       "        vertical-align: top;\n",
       "    }\n",
       "</style>\n",
       "<table border=\"1\" class=\"dataframe\">\n",
       "  <thead>\n",
       "    <tr style=\"text-align: right;\">\n",
       "      <th></th>\n",
       "      <th>index</th>\n",
       "      <th>2541</th>\n",
       "      <th>2543</th>\n",
       "      <th>2545</th>\n",
       "      <th>2547</th>\n",
       "      <th>2549</th>\n",
       "      <th>2550</th>\n",
       "      <th>2552</th>\n",
       "      <th>2554</th>\n",
       "      <th>2556</th>\n",
       "      <th>2558</th>\n",
       "      <th>Province</th>\n",
       "    </tr>\n",
       "  </thead>\n",
       "  <tbody>\n",
       "    <tr>\n",
       "      <th>0</th>\n",
       "      <td>2</td>\n",
       "      <td>12492.0</td>\n",
       "      <td>12150.0</td>\n",
       "      <td>13736.0</td>\n",
       "      <td>14963.0</td>\n",
       "      <td>17787.0</td>\n",
       "      <td>18660.0</td>\n",
       "      <td>20904.0</td>\n",
       "      <td>23236.0</td>\n",
       "      <td>25194.0</td>\n",
       "      <td>26915.0</td>\n",
       "      <td>Whole Kingdom</td>\n",
       "    </tr>\n",
       "    <tr>\n",
       "      <th>1</th>\n",
       "      <td>3</td>\n",
       "      <td>24929.0</td>\n",
       "      <td>25242.0</td>\n",
       "      <td>28239.0</td>\n",
       "      <td>28135.0</td>\n",
       "      <td>33088.0</td>\n",
       "      <td>35007.0</td>\n",
       "      <td>37732.0</td>\n",
       "      <td>41631.0</td>\n",
       "      <td>43058.0</td>\n",
       "      <td>41002.0</td>\n",
       "      <td>Greater Bangkok</td>\n",
       "    </tr>\n",
       "    <tr>\n",
       "      <th>2</th>\n",
       "      <td>4</td>\n",
       "      <td>26054.0</td>\n",
       "      <td>26909.0</td>\n",
       "      <td>29589.0</td>\n",
       "      <td>29843.0</td>\n",
       "      <td>36658.0</td>\n",
       "      <td>39020.0</td>\n",
       "      <td>42380.0</td>\n",
       "      <td>48951.0</td>\n",
       "      <td>49191.0</td>\n",
       "      <td>45572.0</td>\n",
       "      <td>Bangkok</td>\n",
       "    </tr>\n",
       "    <tr>\n",
       "      <th>3</th>\n",
       "      <td>5</td>\n",
       "      <td>18100.0</td>\n",
       "      <td>15745.0</td>\n",
       "      <td>19680.0</td>\n",
       "      <td>19946.0</td>\n",
       "      <td>20382.0</td>\n",
       "      <td>21302.0</td>\n",
       "      <td>23359.0</td>\n",
       "      <td>23798.0</td>\n",
       "      <td>29575.0</td>\n",
       "      <td>25457.0</td>\n",
       "      <td>Samut Prakan</td>\n",
       "    </tr>\n",
       "    <tr>\n",
       "      <th>4</th>\n",
       "      <td>6</td>\n",
       "      <td>24211.0</td>\n",
       "      <td>24566.0</td>\n",
       "      <td>29119.0</td>\n",
       "      <td>26658.0</td>\n",
       "      <td>31152.0</td>\n",
       "      <td>32743.0</td>\n",
       "      <td>34626.0</td>\n",
       "      <td>35120.0</td>\n",
       "      <td>30664.0</td>\n",
       "      <td>36884.0</td>\n",
       "      <td>Nonthaburi</td>\n",
       "    </tr>\n",
       "  </tbody>\n",
       "</table>\n",
       "</div>"
      ],
      "text/plain": [
       "   index     2541     2543     2545     2547     2549     2550     2552  \\\n",
       "0      2  12492.0  12150.0  13736.0  14963.0  17787.0  18660.0  20904.0   \n",
       "1      3  24929.0  25242.0  28239.0  28135.0  33088.0  35007.0  37732.0   \n",
       "2      4  26054.0  26909.0  29589.0  29843.0  36658.0  39020.0  42380.0   \n",
       "3      5  18100.0  15745.0  19680.0  19946.0  20382.0  21302.0  23359.0   \n",
       "4      6  24211.0  24566.0  29119.0  26658.0  31152.0  32743.0  34626.0   \n",
       "\n",
       "      2554     2556     2558         Province  \n",
       "0  23236.0  25194.0  26915.0    Whole Kingdom  \n",
       "1  41631.0  43058.0  41002.0  Greater Bangkok  \n",
       "2  48951.0  49191.0  45572.0          Bangkok  \n",
       "3  23798.0  29575.0  25457.0     Samut Prakan  \n",
       "4  35120.0  30664.0  36884.0       Nonthaburi  "
      ]
     },
     "execution_count": 21,
     "metadata": {},
     "output_type": "execute_result"
    }
   ],
   "source": [
    "income.head()"
   ]
  },
  {
   "cell_type": "markdown",
   "metadata": {},
   "source": [
    "จากการทำงานในหัวข้อก่อนหน้า ทำให้ `income` ของเรามี column `index` เกิดขึ้นมา เราสามารถลบออกได้ด้วยคำสั่ง"
   ]
  },
  {
   "cell_type": "code",
   "execution_count": 22,
   "metadata": {},
   "outputs": [
    {
     "data": {
      "text/html": [
       "<div>\n",
       "<style>\n",
       "    .dataframe thead tr:only-child th {\n",
       "        text-align: right;\n",
       "    }\n",
       "\n",
       "    .dataframe thead th {\n",
       "        text-align: left;\n",
       "    }\n",
       "\n",
       "    .dataframe tbody tr th {\n",
       "        vertical-align: top;\n",
       "    }\n",
       "</style>\n",
       "<table border=\"1\" class=\"dataframe\">\n",
       "  <thead>\n",
       "    <tr style=\"text-align: right;\">\n",
       "      <th></th>\n",
       "      <th>2541</th>\n",
       "      <th>2543</th>\n",
       "      <th>2545</th>\n",
       "      <th>2547</th>\n",
       "      <th>2549</th>\n",
       "      <th>2550</th>\n",
       "      <th>2552</th>\n",
       "      <th>2554</th>\n",
       "      <th>2556</th>\n",
       "      <th>2558</th>\n",
       "      <th>Province</th>\n",
       "    </tr>\n",
       "  </thead>\n",
       "  <tbody>\n",
       "    <tr>\n",
       "      <th>0</th>\n",
       "      <td>12492.0</td>\n",
       "      <td>12150.0</td>\n",
       "      <td>13736.0</td>\n",
       "      <td>14963.0</td>\n",
       "      <td>17787.0</td>\n",
       "      <td>18660.0</td>\n",
       "      <td>20904.0</td>\n",
       "      <td>23236.0</td>\n",
       "      <td>25194.0</td>\n",
       "      <td>26915.0</td>\n",
       "      <td>Whole Kingdom</td>\n",
       "    </tr>\n",
       "    <tr>\n",
       "      <th>1</th>\n",
       "      <td>24929.0</td>\n",
       "      <td>25242.0</td>\n",
       "      <td>28239.0</td>\n",
       "      <td>28135.0</td>\n",
       "      <td>33088.0</td>\n",
       "      <td>35007.0</td>\n",
       "      <td>37732.0</td>\n",
       "      <td>41631.0</td>\n",
       "      <td>43058.0</td>\n",
       "      <td>41002.0</td>\n",
       "      <td>Greater Bangkok</td>\n",
       "    </tr>\n",
       "    <tr>\n",
       "      <th>2</th>\n",
       "      <td>26054.0</td>\n",
       "      <td>26909.0</td>\n",
       "      <td>29589.0</td>\n",
       "      <td>29843.0</td>\n",
       "      <td>36658.0</td>\n",
       "      <td>39020.0</td>\n",
       "      <td>42380.0</td>\n",
       "      <td>48951.0</td>\n",
       "      <td>49191.0</td>\n",
       "      <td>45572.0</td>\n",
       "      <td>Bangkok</td>\n",
       "    </tr>\n",
       "    <tr>\n",
       "      <th>3</th>\n",
       "      <td>18100.0</td>\n",
       "      <td>15745.0</td>\n",
       "      <td>19680.0</td>\n",
       "      <td>19946.0</td>\n",
       "      <td>20382.0</td>\n",
       "      <td>21302.0</td>\n",
       "      <td>23359.0</td>\n",
       "      <td>23798.0</td>\n",
       "      <td>29575.0</td>\n",
       "      <td>25457.0</td>\n",
       "      <td>Samut Prakan</td>\n",
       "    </tr>\n",
       "    <tr>\n",
       "      <th>4</th>\n",
       "      <td>24211.0</td>\n",
       "      <td>24566.0</td>\n",
       "      <td>29119.0</td>\n",
       "      <td>26658.0</td>\n",
       "      <td>31152.0</td>\n",
       "      <td>32743.0</td>\n",
       "      <td>34626.0</td>\n",
       "      <td>35120.0</td>\n",
       "      <td>30664.0</td>\n",
       "      <td>36884.0</td>\n",
       "      <td>Nonthaburi</td>\n",
       "    </tr>\n",
       "  </tbody>\n",
       "</table>\n",
       "</div>"
      ],
      "text/plain": [
       "      2541     2543     2545     2547     2549     2550     2552     2554  \\\n",
       "0  12492.0  12150.0  13736.0  14963.0  17787.0  18660.0  20904.0  23236.0   \n",
       "1  24929.0  25242.0  28239.0  28135.0  33088.0  35007.0  37732.0  41631.0   \n",
       "2  26054.0  26909.0  29589.0  29843.0  36658.0  39020.0  42380.0  48951.0   \n",
       "3  18100.0  15745.0  19680.0  19946.0  20382.0  21302.0  23359.0  23798.0   \n",
       "4  24211.0  24566.0  29119.0  26658.0  31152.0  32743.0  34626.0  35120.0   \n",
       "\n",
       "      2556     2558         Province  \n",
       "0  25194.0  26915.0    Whole Kingdom  \n",
       "1  43058.0  41002.0  Greater Bangkok  \n",
       "2  49191.0  45572.0          Bangkok  \n",
       "3  29575.0  25457.0     Samut Prakan  \n",
       "4  30664.0  36884.0       Nonthaburi  "
      ]
     },
     "execution_count": 22,
     "metadata": {},
     "output_type": "execute_result"
    }
   ],
   "source": [
    "income.drop('index', axis=1, inplace=True)\n",
    "income.head()"
   ]
  },
  {
   "cell_type": "markdown",
   "metadata": {},
   "source": [
    "สังเกตว่าในตอนนี้ ตาราง `income` ของเรามี _หัวแถว_  หรือ index เป็นตัวเลข 0, 1, 2, ... \n",
    "ซึ่งไม่มีประโยชน์ เราสามารถตั้งให้นำชื่อจังหวัดจาก column `Province` มาเป็น index ได้ด้วยคำสั่งดังนี้"
   ]
  },
  {
   "cell_type": "code",
   "execution_count": 23,
   "metadata": {},
   "outputs": [
    {
     "data": {
      "text/html": [
       "<div>\n",
       "<style>\n",
       "    .dataframe thead tr:only-child th {\n",
       "        text-align: right;\n",
       "    }\n",
       "\n",
       "    .dataframe thead th {\n",
       "        text-align: left;\n",
       "    }\n",
       "\n",
       "    .dataframe tbody tr th {\n",
       "        vertical-align: top;\n",
       "    }\n",
       "</style>\n",
       "<table border=\"1\" class=\"dataframe\">\n",
       "  <thead>\n",
       "    <tr style=\"text-align: right;\">\n",
       "      <th></th>\n",
       "      <th>2541</th>\n",
       "      <th>2543</th>\n",
       "      <th>2545</th>\n",
       "      <th>2547</th>\n",
       "      <th>2549</th>\n",
       "      <th>2550</th>\n",
       "      <th>2552</th>\n",
       "      <th>2554</th>\n",
       "      <th>2556</th>\n",
       "      <th>2558</th>\n",
       "    </tr>\n",
       "    <tr>\n",
       "      <th>Province</th>\n",
       "      <th></th>\n",
       "      <th></th>\n",
       "      <th></th>\n",
       "      <th></th>\n",
       "      <th></th>\n",
       "      <th></th>\n",
       "      <th></th>\n",
       "      <th></th>\n",
       "      <th></th>\n",
       "      <th></th>\n",
       "    </tr>\n",
       "  </thead>\n",
       "  <tbody>\n",
       "    <tr>\n",
       "      <th>Whole Kingdom</th>\n",
       "      <td>12492.0</td>\n",
       "      <td>12150.0</td>\n",
       "      <td>13736.0</td>\n",
       "      <td>14963.0</td>\n",
       "      <td>17787.0</td>\n",
       "      <td>18660.0</td>\n",
       "      <td>20904.0</td>\n",
       "      <td>23236.0</td>\n",
       "      <td>25194.0</td>\n",
       "      <td>26915.0</td>\n",
       "    </tr>\n",
       "    <tr>\n",
       "      <th>Greater Bangkok</th>\n",
       "      <td>24929.0</td>\n",
       "      <td>25242.0</td>\n",
       "      <td>28239.0</td>\n",
       "      <td>28135.0</td>\n",
       "      <td>33088.0</td>\n",
       "      <td>35007.0</td>\n",
       "      <td>37732.0</td>\n",
       "      <td>41631.0</td>\n",
       "      <td>43058.0</td>\n",
       "      <td>41002.0</td>\n",
       "    </tr>\n",
       "    <tr>\n",
       "      <th>Bangkok</th>\n",
       "      <td>26054.0</td>\n",
       "      <td>26909.0</td>\n",
       "      <td>29589.0</td>\n",
       "      <td>29843.0</td>\n",
       "      <td>36658.0</td>\n",
       "      <td>39020.0</td>\n",
       "      <td>42380.0</td>\n",
       "      <td>48951.0</td>\n",
       "      <td>49191.0</td>\n",
       "      <td>45572.0</td>\n",
       "    </tr>\n",
       "    <tr>\n",
       "      <th>Samut Prakan</th>\n",
       "      <td>18100.0</td>\n",
       "      <td>15745.0</td>\n",
       "      <td>19680.0</td>\n",
       "      <td>19946.0</td>\n",
       "      <td>20382.0</td>\n",
       "      <td>21302.0</td>\n",
       "      <td>23359.0</td>\n",
       "      <td>23798.0</td>\n",
       "      <td>29575.0</td>\n",
       "      <td>25457.0</td>\n",
       "    </tr>\n",
       "    <tr>\n",
       "      <th>Nonthaburi</th>\n",
       "      <td>24211.0</td>\n",
       "      <td>24566.0</td>\n",
       "      <td>29119.0</td>\n",
       "      <td>26658.0</td>\n",
       "      <td>31152.0</td>\n",
       "      <td>32743.0</td>\n",
       "      <td>34626.0</td>\n",
       "      <td>35120.0</td>\n",
       "      <td>30664.0</td>\n",
       "      <td>36884.0</td>\n",
       "    </tr>\n",
       "  </tbody>\n",
       "</table>\n",
       "</div>"
      ],
      "text/plain": [
       "                    2541     2543     2545     2547     2549     2550  \\\n",
       "Province                                                                \n",
       "Whole Kingdom    12492.0  12150.0  13736.0  14963.0  17787.0  18660.0   \n",
       "Greater Bangkok  24929.0  25242.0  28239.0  28135.0  33088.0  35007.0   \n",
       "Bangkok          26054.0  26909.0  29589.0  29843.0  36658.0  39020.0   \n",
       "Samut Prakan     18100.0  15745.0  19680.0  19946.0  20382.0  21302.0   \n",
       "Nonthaburi       24211.0  24566.0  29119.0  26658.0  31152.0  32743.0   \n",
       "\n",
       "                    2552     2554     2556     2558  \n",
       "Province                                             \n",
       "Whole Kingdom    20904.0  23236.0  25194.0  26915.0  \n",
       "Greater Bangkok  37732.0  41631.0  43058.0  41002.0  \n",
       "Bangkok          42380.0  48951.0  49191.0  45572.0  \n",
       "Samut Prakan     23359.0  23798.0  29575.0  25457.0  \n",
       "Nonthaburi       34626.0  35120.0  30664.0  36884.0  "
      ]
     },
     "execution_count": 23,
     "metadata": {},
     "output_type": "execute_result"
    }
   ],
   "source": [
    "income.set_index('Province', inplace=True)\n",
    "income.head()"
   ]
  },
  {
   "cell_type": "markdown",
   "metadata": {},
   "source": [
    "โดยทั่วไป เวลาวิเคราะห์ข้อมูลที่เกี่ยวข้องกับเวลา (เช่นปีใน `income`) เรามักจะให้ index ของแต่ละแถวเป็นเวลาเรียงลำดับกัน\n",
    "เราสามารถแก้ไข `income` ได้ง่ายโดยการสลับระหว่าง index และ column ซึ่งทำได้ด้วยการ transpose ตารางเดิมดังนี้"
   ]
  },
  {
   "cell_type": "code",
   "execution_count": 24,
   "metadata": {},
   "outputs": [
    {
     "data": {
      "text/html": [
       "<div>\n",
       "<style>\n",
       "    .dataframe thead tr:only-child th {\n",
       "        text-align: right;\n",
       "    }\n",
       "\n",
       "    .dataframe thead th {\n",
       "        text-align: left;\n",
       "    }\n",
       "\n",
       "    .dataframe tbody tr th {\n",
       "        vertical-align: top;\n",
       "    }\n",
       "</style>\n",
       "<table border=\"1\" class=\"dataframe\">\n",
       "  <thead>\n",
       "    <tr style=\"text-align: right;\">\n",
       "      <th>Province</th>\n",
       "      <th>Whole Kingdom</th>\n",
       "      <th>Greater Bangkok</th>\n",
       "      <th>Bangkok</th>\n",
       "      <th>Samut Prakan</th>\n",
       "      <th>Nonthaburi</th>\n",
       "      <th>Pathum Thani</th>\n",
       "      <th>Central Region</th>\n",
       "      <th>Phra Nakhon Si Ayutthaya</th>\n",
       "      <th>Ang Thong</th>\n",
       "      <th>Lop Buri</th>\n",
       "      <th>...</th>\n",
       "      <th>Surat Thani</th>\n",
       "      <th>Ranong</th>\n",
       "      <th>Chumphon</th>\n",
       "      <th>Songkhla</th>\n",
       "      <th>Satun</th>\n",
       "      <th>Trang</th>\n",
       "      <th>Phattalung</th>\n",
       "      <th>Pattani</th>\n",
       "      <th>Yala</th>\n",
       "      <th>Narathiwat</th>\n",
       "    </tr>\n",
       "  </thead>\n",
       "  <tbody>\n",
       "    <tr>\n",
       "      <th>2541</th>\n",
       "      <td>12492.0</td>\n",
       "      <td>24929.0</td>\n",
       "      <td>26054.0</td>\n",
       "      <td>18100.0</td>\n",
       "      <td>24211.0</td>\n",
       "      <td>21793.0</td>\n",
       "      <td>12643.0</td>\n",
       "      <td>12918.0</td>\n",
       "      <td>10878.0</td>\n",
       "      <td>10587.0</td>\n",
       "      <td>...</td>\n",
       "      <td>11967.0</td>\n",
       "      <td>9033.0</td>\n",
       "      <td>10232.0</td>\n",
       "      <td>15057.0</td>\n",
       "      <td>8924.0</td>\n",
       "      <td>12973.0</td>\n",
       "      <td>12315.0</td>\n",
       "      <td>10737.0</td>\n",
       "      <td>7560.0</td>\n",
       "      <td>6281.0</td>\n",
       "    </tr>\n",
       "    <tr>\n",
       "      <th>2543</th>\n",
       "      <td>12150.0</td>\n",
       "      <td>25242.0</td>\n",
       "      <td>26909.0</td>\n",
       "      <td>15745.0</td>\n",
       "      <td>24566.0</td>\n",
       "      <td>19282.0</td>\n",
       "      <td>13012.0</td>\n",
       "      <td>14904.0</td>\n",
       "      <td>12544.0</td>\n",
       "      <td>10649.0</td>\n",
       "      <td>...</td>\n",
       "      <td>10800.0</td>\n",
       "      <td>9410.0</td>\n",
       "      <td>10454.0</td>\n",
       "      <td>13505.0</td>\n",
       "      <td>9711.0</td>\n",
       "      <td>12782.0</td>\n",
       "      <td>11550.0</td>\n",
       "      <td>9759.0</td>\n",
       "      <td>9932.0</td>\n",
       "      <td>7802.0</td>\n",
       "    </tr>\n",
       "    <tr>\n",
       "      <th>2545</th>\n",
       "      <td>13736.0</td>\n",
       "      <td>28239.0</td>\n",
       "      <td>29589.0</td>\n",
       "      <td>19680.0</td>\n",
       "      <td>29119.0</td>\n",
       "      <td>22838.0</td>\n",
       "      <td>14128.0</td>\n",
       "      <td>13319.0</td>\n",
       "      <td>11653.0</td>\n",
       "      <td>11010.0</td>\n",
       "      <td>...</td>\n",
       "      <td>14056.0</td>\n",
       "      <td>10765.0</td>\n",
       "      <td>10922.0</td>\n",
       "      <td>14192.0</td>\n",
       "      <td>12702.0</td>\n",
       "      <td>14332.0</td>\n",
       "      <td>10820.0</td>\n",
       "      <td>9702.0</td>\n",
       "      <td>10018.0</td>\n",
       "      <td>7603.0</td>\n",
       "    </tr>\n",
       "    <tr>\n",
       "      <th>2547</th>\n",
       "      <td>14963.0</td>\n",
       "      <td>28135.0</td>\n",
       "      <td>29843.0</td>\n",
       "      <td>19946.0</td>\n",
       "      <td>26658.0</td>\n",
       "      <td>21530.0</td>\n",
       "      <td>16355.0</td>\n",
       "      <td>14980.0</td>\n",
       "      <td>12855.0</td>\n",
       "      <td>15003.0</td>\n",
       "      <td>...</td>\n",
       "      <td>16150.0</td>\n",
       "      <td>14328.0</td>\n",
       "      <td>11482.0</td>\n",
       "      <td>15481.0</td>\n",
       "      <td>11826.0</td>\n",
       "      <td>17038.0</td>\n",
       "      <td>14985.0</td>\n",
       "      <td>11837.0</td>\n",
       "      <td>11886.0</td>\n",
       "      <td>9240.0</td>\n",
       "    </tr>\n",
       "    <tr>\n",
       "      <th>2549</th>\n",
       "      <td>17787.0</td>\n",
       "      <td>33088.0</td>\n",
       "      <td>36658.0</td>\n",
       "      <td>20382.0</td>\n",
       "      <td>31152.0</td>\n",
       "      <td>25143.0</td>\n",
       "      <td>19279.0</td>\n",
       "      <td>19676.0</td>\n",
       "      <td>18300.0</td>\n",
       "      <td>19935.0</td>\n",
       "      <td>...</td>\n",
       "      <td>21747.0</td>\n",
       "      <td>18679.0</td>\n",
       "      <td>17232.0</td>\n",
       "      <td>22093.0</td>\n",
       "      <td>14307.0</td>\n",
       "      <td>20801.0</td>\n",
       "      <td>18045.0</td>\n",
       "      <td>12547.0</td>\n",
       "      <td>14354.0</td>\n",
       "      <td>11586.0</td>\n",
       "    </tr>\n",
       "  </tbody>\n",
       "</table>\n",
       "<p>5 rows × 82 columns</p>\n",
       "</div>"
      ],
      "text/plain": [
       "Province  Whole Kingdom  Greater Bangkok  Bangkok  Samut Prakan  Nonthaburi  \\\n",
       "2541            12492.0          24929.0  26054.0       18100.0     24211.0   \n",
       "2543            12150.0          25242.0  26909.0       15745.0     24566.0   \n",
       "2545            13736.0          28239.0  29589.0       19680.0     29119.0   \n",
       "2547            14963.0          28135.0  29843.0       19946.0     26658.0   \n",
       "2549            17787.0          33088.0  36658.0       20382.0     31152.0   \n",
       "\n",
       "Province  Pathum Thani  Central Region  Phra Nakhon Si Ayutthaya  Ang Thong  \\\n",
       "2541           21793.0         12643.0                   12918.0    10878.0   \n",
       "2543           19282.0         13012.0                   14904.0    12544.0   \n",
       "2545           22838.0         14128.0                   13319.0    11653.0   \n",
       "2547           21530.0         16355.0                   14980.0    12855.0   \n",
       "2549           25143.0         19279.0                   19676.0    18300.0   \n",
       "\n",
       "Province  Lop Buri     ...      Surat Thani   Ranong  Chumphon  Songkhla  \\\n",
       "2541       10587.0     ...          11967.0   9033.0   10232.0   15057.0   \n",
       "2543       10649.0     ...          10800.0   9410.0   10454.0   13505.0   \n",
       "2545       11010.0     ...          14056.0  10765.0   10922.0   14192.0   \n",
       "2547       15003.0     ...          16150.0  14328.0   11482.0   15481.0   \n",
       "2549       19935.0     ...          21747.0  18679.0   17232.0   22093.0   \n",
       "\n",
       "Province    Satun    Trang  Phattalung  Pattani     Yala  Narathiwat  \n",
       "2541       8924.0  12973.0     12315.0  10737.0   7560.0      6281.0  \n",
       "2543       9711.0  12782.0     11550.0   9759.0   9932.0      7802.0  \n",
       "2545      12702.0  14332.0     10820.0   9702.0  10018.0      7603.0  \n",
       "2547      11826.0  17038.0     14985.0  11837.0  11886.0      9240.0  \n",
       "2549      14307.0  20801.0     18045.0  12547.0  14354.0     11586.0  \n",
       "\n",
       "[5 rows x 82 columns]"
      ]
     },
     "execution_count": 24,
     "metadata": {},
     "output_type": "execute_result"
    }
   ],
   "source": [
    "income = income.T\n",
    "income.head()"
   ]
  },
  {
   "cell_type": "markdown",
   "metadata": {},
   "source": [
    "ถึงตรงนี้ หากเราอยากดูรายได้เฉลี่ยต่อครัวเรือนของประชากรทั้งประเทศในช่วงปี 2541 ถึง 2558 สามารถทำได้โดยการพลอตกราฟด้วย `plt` \n",
    "เช่นเดิม โดยใช้ index ของ `income` เป็นข้อมูลในแกน `x` และใช้ `income['Whole Kingdom']` เป็นข้อมูลในแกน `y`"
   ]
  },
  {
   "cell_type": "code",
   "execution_count": 25,
   "metadata": {},
   "outputs": [
    {
     "data": {
      "image/png": "[encoded data removed]",
      "text/plain": [
       "<matplotlib.figure.Figure at 0x10f3a5748>"
      ]
     },
     "metadata": {},
     "output_type": "display_data"
    }
   ],
   "source": [
    "plt.scatter(income.index, income['Whole Kingdom'])\n",
    "plt.title('Average income per house')\n",
    "plt.show()"
   ]
  },
  {
   "cell_type": "markdown",
   "metadata": {},
   "source": [
    "สังเกตว่าแนวโน้มของรายได้เฉลี่ยนั้นดูเกือบจะเป็นเส้นตรง หากเราสมมติให้ข้อมูลดังกล่าวเรียงตัวเป็นเส้นตรงจริง ๆ\n",
    "เราสามารถหาเส้นตรงที่จะใช้เป็นแบบจำลองแทนข้อมูลชุดนี้ได้ด้วยโมดูล Scikit-Learn `sklearn`\n",
    "\n",
    "เราจะเริ่มจากการ import คลาสของแบบจำลองการเรียนรู้สำหรับสร้างเส้นตรงดังกล่าวที่ชื่อว่า Linear Regression\n",
    "และสร้างตัวแปร `model` เป็นตัวแปรของคลาสดังกล่าว"
   ]
  },
  {
   "cell_type": "code",
   "execution_count": 26,
   "metadata": {
    "collapsed": true
   },
   "outputs": [],
   "source": [
    "from sklearn.linear_model import LinearRegression\n",
    "model = LinearRegression()"
   ]
  },
  {
   "cell_type": "markdown",
   "metadata": {},
   "source": [
    "คราวนี้ เราจะให้ `model` ของเราเรียนรู้ที่จะสร้างเส้นตรงให้สอดคล้องกับข้อมูลที่มีมากที่สุด \n",
    "เราสามารถสั่งให้ `model` _ฟิต_ กับข้อมูลดังกล่าวได้ด้วยคำสั่ง `fit` กล่าวคือ `model` จะหาค่าพารามิเตอร์ `a` และ `b`\n",
    "เพื่อสร้างแบบจำลองเส้นตรงด้วยสมการ\n",
    "$$y = ax + b$$\n",
    "ให้ใกล้เคียงข้อมูลจริงมากที่สุด\n",
    "\n",
    "เนื่องจากคำสั่ง `fit` จะรับพารามิเตอร์สำคัญสองอย่าง ได้แก่ `X` ซึ่งเป็นข้อมูลตามแกน `x` ในรูปแบบ `np.array` สองมิติที่มีหนึ่ง column\n",
    "และ `y` ซึ่งเป็นข้อมูลตามแกน `y` ในรูปแบบ `np.array` หนึ่งมิติ\n",
    "ซึ่งเราต้องเตรียมข้อมูลจากตาราง `income` เสียก่อน"
   ]
  },
  {
   "cell_type": "code",
   "execution_count": 27,
   "metadata": {
    "collapsed": true
   },
   "outputs": [],
   "source": [
    "import numpy as np\n",
    "X = np.array(income.index).reshape(-1, 1) #แปลง income.index ให้เป็น np.array และปรับให้เป็น array สองมิติที่มี column เดียว\n",
    "y = income['Whole Kingdom'].values #เอาเฉพาะข้อมูลในตาราง income (ไม่เอาชื่อ index และ column) ซึ่งผลจะเป็น np.array"
   ]
  },
  {
   "cell_type": "markdown",
   "metadata": {},
   "source": [
    "เราสามารถดูลักษณะของข้อมูล `X` และ `y` ได้ดังนี้"
   ]
  },
  {
   "cell_type": "code",
   "execution_count": 28,
   "metadata": {},
   "outputs": [
    {
     "name": "stdout",
     "output_type": "stream",
     "text": [
      "X: [[2541]\n",
      " [2543]\n",
      " [2545]\n",
      " [2547]\n",
      " [2549]\n",
      " [2550]\n",
      " [2552]\n",
      " [2554]\n",
      " [2556]\n",
      " [2558]]\n",
      "y: [ 12492.  12150.  13736.  14963.  17787.  18660.  20904.  23236.  25194.\n",
      "  26915.]\n"
     ]
    }
   ],
   "source": [
    "print('X:', X)\n",
    "print('y:', y)"
   ]
  },
  {
   "cell_type": "markdown",
   "metadata": {},
   "source": [
    "ถึงตรงนี้ เราสั่งให้ `model` เรียนรู้จาก `X` และ `y` ได้ด้วยคำสั่ง"
   ]
  },
  {
   "cell_type": "code",
   "execution_count": 29,
   "metadata": {},
   "outputs": [
    {
     "data": {
      "text/plain": [
       "LinearRegression(copy_X=True, fit_intercept=True, n_jobs=1, normalize=False)"
      ]
     },
     "execution_count": 29,
     "metadata": {},
     "output_type": "execute_result"
    }
   ],
   "source": [
    "model.fit(X, y)"
   ]
  },
  {
   "cell_type": "markdown",
   "metadata": {},
   "source": [
    "เพียงเท่านี้ เราก็ได้ `model` เป็นแบบจำลองเส้นตรงที่เป็นตัวแทนของรายได้เฉลี่ยปี 2541-2558 แล้ว\n",
    "เราสามารถพลอตเส้นตรงดังกล่าวเทียบกับรายได้จาก `income` ได้ดังนี้"
   ]
  },
  {
   "cell_type": "code",
   "execution_count": 30,
   "metadata": {},
   "outputs": [
    {
     "data": {
      "image/png": "[encoded data removed]",
      "text/plain": [
       "<matplotlib.figure.Figure at 0x10fd869b0>"
      ]
     },
     "metadata": {},
     "output_type": "display_data"
    }
   ],
   "source": [
    "plt.scatter(income.index, income['Whole Kingdom'])\n",
    "plt.title('Average income per house')\n",
    "\n",
    "x_model = np.linspace(2541, 2558, 1000) #สร้าง np.array ที่มีสมาชิกเรียงตั้งแต่ 2541 จนถึง 2558 แบ่งออกเป็น 1000 ตัว\n",
    "y_model = model.predict(x_model.reshape(-1, 1)) #ทำนายค่า y จาก x แต่ละตัวใน x_model ด้วย model\n",
    "plt.plot(x_model, y_model, color='red')\n",
    "plt.show()"
   ]
  },
  {
   "cell_type": "markdown",
   "metadata": {},
   "source": [
    "เราสามารถดู _คะแนน_ ความสอดคล้องของ `model` กับข้อมูลจริงของเราได้ด้วยคำสั่ง `model.score(X, y)`\n",
    "ซึ่งจะได้ค่าเป็น 1 ถ้าความสัมพันธ์ของ `X` และ `y` ตรงตามเส้นตรงที่ได้จาก `model` ทั้งหมด"
   ]
  },
  {
   "cell_type": "code",
   "execution_count": 31,
   "metadata": {},
   "outputs": [
    {
     "data": {
      "text/plain": [
       "0.97456546784896025"
      ]
     },
     "execution_count": 31,
     "metadata": {},
     "output_type": "execute_result"
    }
   ],
   "source": [
    "model.score(X, y)"
   ]
  },
  {
   "cell_type": "markdown",
   "metadata": {},
   "source": [
    "จะเห็นว่าแบบจำลองเส้นตรงของเรานี้มีคะแนนสูงมากทีเดียว เราอาจนำไปทำนายรายได้เฉลี่ยต่อครัวเรือนของประชากรไทยได้ด้วยคำสั่ง"
   ]
  },
  {
   "cell_type": "code",
   "execution_count": 32,
   "metadata": {},
   "outputs": [
    {
     "data": {
      "text/plain": [
       "array([ 28468.88672566])"
      ]
     },
     "execution_count": 32,
     "metadata": {},
     "output_type": "execute_result"
    }
   ],
   "source": [
    "model.predict([[2560]])"
   ]
  },
  {
   "cell_type": "markdown",
   "metadata": {},
   "source": [
    "จะได้ว่าในปี 2560 รายได้เฉลี่ยต่อครัวเรือนของคนไทยทั้งประเทศ น่าจะมีค่าประมาณ 28468.89 บาท\n",
    "***"
   ]
  },
  {
   "cell_type": "markdown",
   "metadata": {},
   "source": [
    "## ปรับปรุงแบบจำลอง\n",
    "\n",
    "หากสังเกตให้ดี เราอาจมองว่าข้อมูลรายได้เฉลี่ยต่อครัวเรือนจากปี 2541-2558 นั้นไม่ได้เรียงเป็นเส้นตรง แต่มีความโค้งเล็กน้อย\n",
    "เราอาจนำสมมติฐานนี้มาปรับปรุงแบบจำลองของเราให้อยู่ในรูป _สมการพหุนามกำลังสอง_ แทน กล่าวคือ เราจะถือว่าถ้า $x$ เป็นปี\n",
    "และ $y$ เป็นรายได้เฉลี่ยของครัวเรือน ความสัมพันธ์ของ $x$ และ $y$ จะอยู่ในรูป\n",
    "$$ y = ax^2 + bx + c$$\n",
    "สำหรับค่าคงที่ $a,b,c$ บางตัว\n",
    "\n",
    "เราสามารถสร้างแบบจำลองดังกล่าวได้ด้วย Linear Regression เช่นเดียวกัน โดยมอง $x$ และ $x^2$ ให้เป็น _feature_\n",
    "ของปีแต่ละปี กล่าวคือถ้าเราให้ $f_1=x,f_2=x^2$ สิ่งที่เราต้องทำก็คือการหาค่าคงที่ $a,b,c$ ที่\n",
    "$$ y = af_2 + bf_1 + c$$\n",
    "สอดคล้องกับข้อมูลจริงมากที่สุด\n",
    "\n",
    "เราจะเริ่มด้วยการปรับข้อมูลปีใน `X` ให้มี feature เพิ่มขึ้นมา"
   ]
  },
  {
   "cell_type": "code",
   "execution_count": 33,
   "metadata": {
    "collapsed": true
   },
   "outputs": [],
   "source": [
    "X = np.array(income.index).reshape(-1, 1)\n",
    "\n",
    "# ปรับมิติของ X ให้มี 1 แถว\n",
    "X = X.T \n",
    "\n",
    "# สร้าง np.array อีกแถวโดยข้อมูลแต่ละตำแหน่งเป็นข้อมูลใน X ยกกำลังสอง และนำมาต่อด้านล่างของ X กลายเป็น array สองแถว\n",
    "X = np.vstack([X, X ** 2]) \n",
    "\n",
    "# transpose กลับให้แต่ละแถวเป็น feature ของปีใด ๆ\n",
    "X = X.T "
   ]
  },
  {
   "cell_type": "markdown",
   "metadata": {},
   "source": [
    "เราสามารถเรียกดูมิติของ `X` ได้"
   ]
  },
  {
   "cell_type": "code",
   "execution_count": 34,
   "metadata": {},
   "outputs": [
    {
     "data": {
      "text/plain": [
       "array([[2541, 6456681],\n",
       "       [2543, 6466849],\n",
       "       [2545, 6477025],\n",
       "       [2547, 6487209],\n",
       "       [2549, 6497401],\n",
       "       [2550, 6502500],\n",
       "       [2552, 6512704],\n",
       "       [2554, 6522916],\n",
       "       [2556, 6533136],\n",
       "       [2558, 6543364]], dtype=object)"
      ]
     },
     "execution_count": 34,
     "metadata": {},
     "output_type": "execute_result"
    }
   ],
   "source": [
    "X"
   ]
  },
  {
   "cell_type": "markdown",
   "metadata": {},
   "source": [
    "คราวนี้เรามาลองสร้าง `model2` ให้เรียนรู้จากข้อมูล `X` ชุดใหม่นี้แทน"
   ]
  },
  {
   "cell_type": "code",
   "execution_count": 35,
   "metadata": {},
   "outputs": [
    {
     "data": {
      "text/plain": [
       "LinearRegression(copy_X=True, fit_intercept=True, n_jobs=1, normalize=False)"
      ]
     },
     "execution_count": 35,
     "metadata": {},
     "output_type": "execute_result"
    }
   ],
   "source": [
    "model2 = LinearRegression()\n",
    "model2.fit(X, y)"
   ]
  },
  {
   "cell_type": "markdown",
   "metadata": {},
   "source": [
    "จากนั้น ลองพลอตเส้นแนวโน้มที่ได้ และแสดงคะแนน"
   ]
  },
  {
   "cell_type": "code",
   "execution_count": 36,
   "metadata": {},
   "outputs": [
    {
     "data": {
      "image/png": "[encoded data removed]",
      "text/plain": [
       "<matplotlib.figure.Figure at 0x10fd6ef60>"
      ]
     },
     "metadata": {},
     "output_type": "display_data"
    }
   ],
   "source": [
    "plt.scatter(income.index, income['Whole Kingdom'])\n",
    "plt.title('Average income per house')\n",
    "\n",
    "x_model = np.linspace(2541, 2558, 1000)\n",
    "X_model = np.vstack([x_model, x_model ** 2])\n",
    "y_model = model2.predict(X_model.T)\n",
    "plt.plot(x_model, y_model, color='red')\n",
    "plt.show()"
   ]
  },
  {
   "cell_type": "code",
   "execution_count": 37,
   "metadata": {},
   "outputs": [
    {
     "data": {
      "text/plain": [
       "0.9874884703063751"
      ]
     },
     "execution_count": 37,
     "metadata": {},
     "output_type": "execute_result"
    }
   ],
   "source": [
    "model2.score(X, y)"
   ]
  },
  {
   "cell_type": "markdown",
   "metadata": {},
   "source": [
    "สังเกตว่าแบบจำลองใหม่นี้ให้คะแนนสูงว่าแบบจำลองแรก เรามาลองทำนายรายได้เฉลี่ยต่อครัวเรือนในปี 2560 ด้วยแบบจำลองใหม่กัน"
   ]
  },
  {
   "cell_type": "code",
   "execution_count": 38,
   "metadata": {},
   "outputs": [
    {
     "data": {
      "text/plain": [
       "array([ 30260.36420834])"
      ]
     },
     "execution_count": 38,
     "metadata": {},
     "output_type": "execute_result"
    }
   ],
   "source": [
    "X = np.array([[2560, 2560 ** 2]])\n",
    "model2.predict(X)"
   ]
  },
  {
   "cell_type": "markdown",
   "metadata": {},
   "source": [
    "จะได้ว่ารายได้เฉลี่ยต่อเดือนต่อครัวเรือนในปี 2560 มีค่ามากกว่า 30000 บาท ขอแสดงความยินดีกับคนไทยทุกคน\n",
    "***"
   ]
  }
 ],
 "metadata": {
  "kernelspec": {
   "display_name": "Python 3",
   "language": "python",
   "name": "python3"
  },
  "language_info": {
   "codemirror_mode": {
    "name": "ipython",
    "version": 3
   },
   "file_extension": ".py",
   "mimetype": "text/x-python",
   "name": "python",
   "nbconvert_exporter": "python",
   "pygments_lexer": "ipython3",
   "version": "3.6.1"
  }
 },
 "nbformat": 4,
 "nbformat_minor": 2
}
